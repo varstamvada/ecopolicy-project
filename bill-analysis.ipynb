{
 "cells": [
  {
   "cell_type": "code",
   "execution_count": 86,
   "id": "initial_id",
   "metadata": {
    "collapsed": true,
    "ExecuteTime": {
     "end_time": "2025-01-20T18:28:25.138068Z",
     "start_time": "2025-01-20T18:28:25.112628Z"
    }
   },
   "outputs": [],
   "source": [
    "import pandas as pd\n",
    "import matplotlib.pyplot as plt"
   ]
  },
  {
   "cell_type": "code",
   "execution_count": 87,
   "outputs": [],
   "source": [
    "bills = pd.read_csv(\"All_sponsors_data.csv\")\n",
    "members = pd.read_csv(\"unique_members.csv\")\n"
   ],
   "metadata": {
    "collapsed": false,
    "ExecuteTime": {
     "end_time": "2025-01-20T18:28:26.087152Z",
     "start_time": "2025-01-20T18:28:25.114538Z"
    }
   },
   "id": "8a8f10ec8fab6c58"
  },
  {
   "cell_type": "code",
   "execution_count": 88,
   "outputs": [
    {
     "data": {
      "text/plain": "       bioguideid  congress introducedDate  actionDate  \\\n0         S000094       107     2001-08-02  2001-08-16   \n1         S000094       107     2001-06-12  2001-06-18   \n2         S000094       107     2001-06-12  2001-07-09   \n3         S000094       107     2001-05-14  2001-06-11   \n4         S000094       107     2001-03-20  2001-04-02   \n...           ...       ...            ...         ...   \n321572    M001147       108     2003-10-01  2003-10-22   \n321573    M001147       108     2004-07-22  2004-11-16   \n321574    M001147       108     2003-10-16  2003-10-20   \n321575    M001147       108     2003-02-25  2003-05-21   \n321576    M001147       108     2003-03-18  2003-03-24   \n\n                                                     text  number  \\\n0       Referred to the Subcommittee on Energy and Air...  2814.0   \n1       Referred to the Subcommittee on Commerce, Trad...  2135.0   \n2       Referred to the Subcommittee on Government Eff...  2136.0   \n3       Referred to the Subcommittee on International ...  1828.0   \n4       Referred to the Subcommittee on Environment an...    70.0   \n...                                                   ...     ...   \n321572  Referred to the Subcommittee on the Constitution.    71.0   \n321573  Motion to reconsider laid on the table Agreed ...   750.0   \n321574  Motion to reconsider laid on the table Agreed ...   400.0   \n321575  The title of the measure was amended. Agreed t...   100.0   \n321576  Referred to the Subcommittee on Commerce, Trad...   100.0   \n\n                                            policyArea  \\\n0                                   {'name': 'Energy'}   \n1                                 {'name': 'Commerce'}   \n2       {'name': 'Government Operations and Politics'}   \n3                    {'name': 'International Affairs'}   \n4                    {'name': 'International Affairs'}   \n...                                                ...   \n321572  {'name': 'Government Operations and Politics'}   \n321573                      {'name': 'Commemorations'}   \n321574               {'name': 'International Affairs'}   \n321575                      {'name': 'Commemorations'}   \n321576                      {'name': 'Commemorations'}   \n\n                                                    title     type  \\\n0                             Interstate Transmission Act       HR   \n1                         Consumer Privacy Protection Act       HR   \n2                 Confidential Information Protection Act       HR   \n3                       Unilateral Sanction Reporting Act       HR   \n4       Expressing the sense of the Congress that the ...  HCONRES   \n...                                                   ...      ...   \n321572  Proposing an amendment to the Constitution of ...    HJRES   \n321573  Recognizing the 130th anniversary of the creat...     HRES   \n321574  Honoring the 25th anniversary of Pope John Pau...     HRES   \n321575  Recognizing the 100th anniversary year of the ...     HRES   \n321576  Recognizing the 100th anniversary year of the ...  HCONRES   \n\n                                                      url  \n0       https://api.congress.gov/v3/bill/107/hr/2814?f...  \n1       https://api.congress.gov/v3/bill/107/hr/2135?f...  \n2       https://api.congress.gov/v3/bill/107/hr/2136?f...  \n3       https://api.congress.gov/v3/bill/107/hr/1828?f...  \n4       https://api.congress.gov/v3/bill/107/hconres/7...  \n...                                                   ...  \n321572  https://api.congress.gov/v3/bill/108/hjres/71?...  \n321573  https://api.congress.gov/v3/bill/108/hres/750?...  \n321574  https://api.congress.gov/v3/bill/108/hres/400?...  \n321575  https://api.congress.gov/v3/bill/108/hres/100?...  \n321576  https://api.congress.gov/v3/bill/108/hconres/1...  \n\n[321577 rows x 10 columns]",
      "text/html": "<div>\n<style scoped>\n    .dataframe tbody tr th:only-of-type {\n        vertical-align: middle;\n    }\n\n    .dataframe tbody tr th {\n        vertical-align: top;\n    }\n\n    .dataframe thead th {\n        text-align: right;\n    }\n</style>\n<table border=\"1\" class=\"dataframe\">\n  <thead>\n    <tr style=\"text-align: right;\">\n      <th></th>\n      <th>bioguideid</th>\n      <th>congress</th>\n      <th>introducedDate</th>\n      <th>actionDate</th>\n      <th>text</th>\n      <th>number</th>\n      <th>policyArea</th>\n      <th>title</th>\n      <th>type</th>\n      <th>url</th>\n    </tr>\n  </thead>\n  <tbody>\n    <tr>\n      <th>0</th>\n      <td>S000094</td>\n      <td>107</td>\n      <td>2001-08-02</td>\n      <td>2001-08-16</td>\n      <td>Referred to the Subcommittee on Energy and Air...</td>\n      <td>2814.0</td>\n      <td>{'name': 'Energy'}</td>\n      <td>Interstate Transmission Act</td>\n      <td>HR</td>\n      <td>https://api.congress.gov/v3/bill/107/hr/2814?f...</td>\n    </tr>\n    <tr>\n      <th>1</th>\n      <td>S000094</td>\n      <td>107</td>\n      <td>2001-06-12</td>\n      <td>2001-06-18</td>\n      <td>Referred to the Subcommittee on Commerce, Trad...</td>\n      <td>2135.0</td>\n      <td>{'name': 'Commerce'}</td>\n      <td>Consumer Privacy Protection Act</td>\n      <td>HR</td>\n      <td>https://api.congress.gov/v3/bill/107/hr/2135?f...</td>\n    </tr>\n    <tr>\n      <th>2</th>\n      <td>S000094</td>\n      <td>107</td>\n      <td>2001-06-12</td>\n      <td>2001-07-09</td>\n      <td>Referred to the Subcommittee on Government Eff...</td>\n      <td>2136.0</td>\n      <td>{'name': 'Government Operations and Politics'}</td>\n      <td>Confidential Information Protection Act</td>\n      <td>HR</td>\n      <td>https://api.congress.gov/v3/bill/107/hr/2136?f...</td>\n    </tr>\n    <tr>\n      <th>3</th>\n      <td>S000094</td>\n      <td>107</td>\n      <td>2001-05-14</td>\n      <td>2001-06-11</td>\n      <td>Referred to the Subcommittee on International ...</td>\n      <td>1828.0</td>\n      <td>{'name': 'International Affairs'}</td>\n      <td>Unilateral Sanction Reporting Act</td>\n      <td>HR</td>\n      <td>https://api.congress.gov/v3/bill/107/hr/1828?f...</td>\n    </tr>\n    <tr>\n      <th>4</th>\n      <td>S000094</td>\n      <td>107</td>\n      <td>2001-03-20</td>\n      <td>2001-04-02</td>\n      <td>Referred to the Subcommittee on Environment an...</td>\n      <td>70.0</td>\n      <td>{'name': 'International Affairs'}</td>\n      <td>Expressing the sense of the Congress that the ...</td>\n      <td>HCONRES</td>\n      <td>https://api.congress.gov/v3/bill/107/hconres/7...</td>\n    </tr>\n    <tr>\n      <th>...</th>\n      <td>...</td>\n      <td>...</td>\n      <td>...</td>\n      <td>...</td>\n      <td>...</td>\n      <td>...</td>\n      <td>...</td>\n      <td>...</td>\n      <td>...</td>\n      <td>...</td>\n    </tr>\n    <tr>\n      <th>321572</th>\n      <td>M001147</td>\n      <td>108</td>\n      <td>2003-10-01</td>\n      <td>2003-10-22</td>\n      <td>Referred to the Subcommittee on the Constitution.</td>\n      <td>71.0</td>\n      <td>{'name': 'Government Operations and Politics'}</td>\n      <td>Proposing an amendment to the Constitution of ...</td>\n      <td>HJRES</td>\n      <td>https://api.congress.gov/v3/bill/108/hjres/71?...</td>\n    </tr>\n    <tr>\n      <th>321573</th>\n      <td>M001147</td>\n      <td>108</td>\n      <td>2004-07-22</td>\n      <td>2004-11-16</td>\n      <td>Motion to reconsider laid on the table Agreed ...</td>\n      <td>750.0</td>\n      <td>{'name': 'Commemorations'}</td>\n      <td>Recognizing the 130th anniversary of the creat...</td>\n      <td>HRES</td>\n      <td>https://api.congress.gov/v3/bill/108/hres/750?...</td>\n    </tr>\n    <tr>\n      <th>321574</th>\n      <td>M001147</td>\n      <td>108</td>\n      <td>2003-10-16</td>\n      <td>2003-10-20</td>\n      <td>Motion to reconsider laid on the table Agreed ...</td>\n      <td>400.0</td>\n      <td>{'name': 'International Affairs'}</td>\n      <td>Honoring the 25th anniversary of Pope John Pau...</td>\n      <td>HRES</td>\n      <td>https://api.congress.gov/v3/bill/108/hres/400?...</td>\n    </tr>\n    <tr>\n      <th>321575</th>\n      <td>M001147</td>\n      <td>108</td>\n      <td>2003-02-25</td>\n      <td>2003-05-21</td>\n      <td>The title of the measure was amended. Agreed t...</td>\n      <td>100.0</td>\n      <td>{'name': 'Commemorations'}</td>\n      <td>Recognizing the 100th anniversary year of the ...</td>\n      <td>HRES</td>\n      <td>https://api.congress.gov/v3/bill/108/hres/100?...</td>\n    </tr>\n    <tr>\n      <th>321576</th>\n      <td>M001147</td>\n      <td>108</td>\n      <td>2003-03-18</td>\n      <td>2003-03-24</td>\n      <td>Referred to the Subcommittee on Commerce, Trad...</td>\n      <td>100.0</td>\n      <td>{'name': 'Commemorations'}</td>\n      <td>Recognizing the 100th anniversary year of the ...</td>\n      <td>HCONRES</td>\n      <td>https://api.congress.gov/v3/bill/108/hconres/1...</td>\n    </tr>\n  </tbody>\n</table>\n<p>321577 rows × 10 columns</p>\n</div>"
     },
     "execution_count": 88,
     "metadata": {},
     "output_type": "execute_result"
    }
   ],
   "source": [
    "bills"
   ],
   "metadata": {
    "collapsed": false,
    "ExecuteTime": {
     "end_time": "2025-01-20T18:28:26.094293Z",
     "start_time": "2025-01-20T18:28:26.090377Z"
    }
   },
   "id": "3cece5c13c959eaf"
  },
  {
   "cell_type": "code",
   "execution_count": 89,
   "outputs": [
    {
     "name": "stdout",
     "output_type": "stream",
     "text": [
      "<class 'pandas.core.frame.DataFrame'>\n",
      "RangeIndex: 321577 entries, 0 to 321576\n",
      "Data columns (total 10 columns):\n",
      " #   Column          Non-Null Count   Dtype  \n",
      "---  ------          --------------   -----  \n",
      " 0   bioguideid      321577 non-null  object \n",
      " 1   congress        321577 non-null  int64  \n",
      " 2   introducedDate  321577 non-null  object \n",
      " 3   actionDate      267985 non-null  object \n",
      " 4   text            267985 non-null  object \n",
      " 5   number          225625 non-null  float64\n",
      " 6   policyArea      321577 non-null  object \n",
      " 7   title           225625 non-null  object \n",
      " 8   type            225625 non-null  object \n",
      " 9   url             321577 non-null  object \n",
      "dtypes: float64(1), int64(1), object(8)\n",
      "memory usage: 24.5+ MB\n"
     ]
    }
   ],
   "source": [
    "bills.info()"
   ],
   "metadata": {
    "collapsed": false,
    "ExecuteTime": {
     "end_time": "2025-01-20T18:28:26.212643Z",
     "start_time": "2025-01-20T18:28:26.094542Z"
    }
   },
   "id": "b4f05ae16a8f1d2f"
  },
  {
   "cell_type": "code",
   "execution_count": 90,
   "outputs": [],
   "source": [
    "bills[\"number\"] = bills[\"number\"].fillna(0)\n",
    "bills[\"title\"] = bills[\"title\"].fillna(\"null\")\n",
    "bills[\"congress\"] = bills[\"congress\"].astype(\"category\")\n",
    "bills[\"introducedDate\"] = pd.to_datetime(bills[\"introducedDate\"])\n",
    "bills[\"actionDate\"] = pd.to_datetime(bills[\"actionDate\"])\n",
    "bills[\"number\"] = bills[\"number\"].astype(\"int\")\n",
    "#bond = bond.rename(columns={ \"Year\": \"Year of Release\", \"Box Office\": \"Revenue\" })\n",
    "bills = bills.rename(columns={ \"text\":\"actionText\", \"number\":\"billnumber\", \"type\":\"billtype\"})\n",
    "members = members.rename(columns= {\"bioguideId\":\"bioguideid\"})"
   ],
   "metadata": {
    "collapsed": false,
    "ExecuteTime": {
     "end_time": "2025-01-20T18:28:26.398093Z",
     "start_time": "2025-01-20T18:28:26.168072Z"
    }
   },
   "id": "94fff656b5507536"
  },
  {
   "cell_type": "code",
   "execution_count": 91,
   "outputs": [
    {
     "name": "stdout",
     "output_type": "stream",
     "text": [
      "<class 'pandas.core.frame.DataFrame'>\n",
      "RangeIndex: 321577 entries, 0 to 321576\n",
      "Data columns (total 10 columns):\n",
      " #   Column          Non-Null Count   Dtype         \n",
      "---  ------          --------------   -----         \n",
      " 0   bioguideid      321577 non-null  object        \n",
      " 1   congress        321577 non-null  category      \n",
      " 2   introducedDate  321577 non-null  datetime64[ns]\n",
      " 3   actionDate      267985 non-null  datetime64[ns]\n",
      " 4   actionText      267985 non-null  object        \n",
      " 5   billnumber      321577 non-null  int64         \n",
      " 6   policyArea      321577 non-null  object        \n",
      " 7   title           321577 non-null  object        \n",
      " 8   billtype        225625 non-null  object        \n",
      " 9   url             321577 non-null  object        \n",
      "dtypes: category(1), datetime64[ns](2), int64(1), object(6)\n",
      "memory usage: 22.4+ MB\n"
     ]
    }
   ],
   "source": [
    "bills.info()"
   ],
   "metadata": {
    "collapsed": false,
    "ExecuteTime": {
     "end_time": "2025-01-20T18:28:26.398282Z",
     "start_time": "2025-01-20T18:28:26.388251Z"
    }
   },
   "id": "9448eadcde9aa952"
  },
  {
   "cell_type": "code",
   "execution_count": 92,
   "outputs": [],
   "source": [
    "bills = bills[bills[\"introducedDate\"] > \"1999-01-01\"]"
   ],
   "metadata": {
    "collapsed": false,
    "ExecuteTime": {
     "end_time": "2025-01-20T18:28:26.417479Z",
     "start_time": "2025-01-20T18:28:26.394576Z"
    }
   },
   "id": "1988264ab3bf1023"
  },
  {
   "cell_type": "code",
   "execution_count": 93,
   "outputs": [
    {
     "data": {
      "text/plain": "       bioguideid congress introducedDate actionDate  \\\n0         S000094      107     2001-08-02 2001-08-16   \n1         S000094      107     2001-06-12 2001-06-18   \n2         S000094      107     2001-06-12 2001-07-09   \n3         S000094      107     2001-05-14 2001-06-11   \n4         S000094      107     2001-03-20 2001-04-02   \n...           ...      ...            ...        ...   \n321572    M001147      108     2003-10-01 2003-10-22   \n321573    M001147      108     2004-07-22 2004-11-16   \n321574    M001147      108     2003-10-16 2003-10-20   \n321575    M001147      108     2003-02-25 2003-05-21   \n321576    M001147      108     2003-03-18 2003-03-24   \n\n                                               actionText  billnumber  \\\n0       Referred to the Subcommittee on Energy and Air...        2814   \n1       Referred to the Subcommittee on Commerce, Trad...        2135   \n2       Referred to the Subcommittee on Government Eff...        2136   \n3       Referred to the Subcommittee on International ...        1828   \n4       Referred to the Subcommittee on Environment an...          70   \n...                                                   ...         ...   \n321572  Referred to the Subcommittee on the Constitution.          71   \n321573  Motion to reconsider laid on the table Agreed ...         750   \n321574  Motion to reconsider laid on the table Agreed ...         400   \n321575  The title of the measure was amended. Agreed t...         100   \n321576  Referred to the Subcommittee on Commerce, Trad...         100   \n\n                                            policyArea  \\\n0                                   {'name': 'Energy'}   \n1                                 {'name': 'Commerce'}   \n2       {'name': 'Government Operations and Politics'}   \n3                    {'name': 'International Affairs'}   \n4                    {'name': 'International Affairs'}   \n...                                                ...   \n321572  {'name': 'Government Operations and Politics'}   \n321573                      {'name': 'Commemorations'}   \n321574               {'name': 'International Affairs'}   \n321575                      {'name': 'Commemorations'}   \n321576                      {'name': 'Commemorations'}   \n\n                                                    title billtype  \\\n0                             Interstate Transmission Act       HR   \n1                         Consumer Privacy Protection Act       HR   \n2                 Confidential Information Protection Act       HR   \n3                       Unilateral Sanction Reporting Act       HR   \n4       Expressing the sense of the Congress that the ...  HCONRES   \n...                                                   ...      ...   \n321572  Proposing an amendment to the Constitution of ...    HJRES   \n321573  Recognizing the 130th anniversary of the creat...     HRES   \n321574  Honoring the 25th anniversary of Pope John Pau...     HRES   \n321575  Recognizing the 100th anniversary year of the ...     HRES   \n321576  Recognizing the 100th anniversary year of the ...  HCONRES   \n\n                                                      url  \n0       https://api.congress.gov/v3/bill/107/hr/2814?f...  \n1       https://api.congress.gov/v3/bill/107/hr/2135?f...  \n2       https://api.congress.gov/v3/bill/107/hr/2136?f...  \n3       https://api.congress.gov/v3/bill/107/hr/1828?f...  \n4       https://api.congress.gov/v3/bill/107/hconres/7...  \n...                                                   ...  \n321572  https://api.congress.gov/v3/bill/108/hjres/71?...  \n321573  https://api.congress.gov/v3/bill/108/hres/750?...  \n321574  https://api.congress.gov/v3/bill/108/hres/400?...  \n321575  https://api.congress.gov/v3/bill/108/hres/100?...  \n321576  https://api.congress.gov/v3/bill/108/hconres/1...  \n\n[244379 rows x 10 columns]",
      "text/html": "<div>\n<style scoped>\n    .dataframe tbody tr th:only-of-type {\n        vertical-align: middle;\n    }\n\n    .dataframe tbody tr th {\n        vertical-align: top;\n    }\n\n    .dataframe thead th {\n        text-align: right;\n    }\n</style>\n<table border=\"1\" class=\"dataframe\">\n  <thead>\n    <tr style=\"text-align: right;\">\n      <th></th>\n      <th>bioguideid</th>\n      <th>congress</th>\n      <th>introducedDate</th>\n      <th>actionDate</th>\n      <th>actionText</th>\n      <th>billnumber</th>\n      <th>policyArea</th>\n      <th>title</th>\n      <th>billtype</th>\n      <th>url</th>\n    </tr>\n  </thead>\n  <tbody>\n    <tr>\n      <th>0</th>\n      <td>S000094</td>\n      <td>107</td>\n      <td>2001-08-02</td>\n      <td>2001-08-16</td>\n      <td>Referred to the Subcommittee on Energy and Air...</td>\n      <td>2814</td>\n      <td>{'name': 'Energy'}</td>\n      <td>Interstate Transmission Act</td>\n      <td>HR</td>\n      <td>https://api.congress.gov/v3/bill/107/hr/2814?f...</td>\n    </tr>\n    <tr>\n      <th>1</th>\n      <td>S000094</td>\n      <td>107</td>\n      <td>2001-06-12</td>\n      <td>2001-06-18</td>\n      <td>Referred to the Subcommittee on Commerce, Trad...</td>\n      <td>2135</td>\n      <td>{'name': 'Commerce'}</td>\n      <td>Consumer Privacy Protection Act</td>\n      <td>HR</td>\n      <td>https://api.congress.gov/v3/bill/107/hr/2135?f...</td>\n    </tr>\n    <tr>\n      <th>2</th>\n      <td>S000094</td>\n      <td>107</td>\n      <td>2001-06-12</td>\n      <td>2001-07-09</td>\n      <td>Referred to the Subcommittee on Government Eff...</td>\n      <td>2136</td>\n      <td>{'name': 'Government Operations and Politics'}</td>\n      <td>Confidential Information Protection Act</td>\n      <td>HR</td>\n      <td>https://api.congress.gov/v3/bill/107/hr/2136?f...</td>\n    </tr>\n    <tr>\n      <th>3</th>\n      <td>S000094</td>\n      <td>107</td>\n      <td>2001-05-14</td>\n      <td>2001-06-11</td>\n      <td>Referred to the Subcommittee on International ...</td>\n      <td>1828</td>\n      <td>{'name': 'International Affairs'}</td>\n      <td>Unilateral Sanction Reporting Act</td>\n      <td>HR</td>\n      <td>https://api.congress.gov/v3/bill/107/hr/1828?f...</td>\n    </tr>\n    <tr>\n      <th>4</th>\n      <td>S000094</td>\n      <td>107</td>\n      <td>2001-03-20</td>\n      <td>2001-04-02</td>\n      <td>Referred to the Subcommittee on Environment an...</td>\n      <td>70</td>\n      <td>{'name': 'International Affairs'}</td>\n      <td>Expressing the sense of the Congress that the ...</td>\n      <td>HCONRES</td>\n      <td>https://api.congress.gov/v3/bill/107/hconres/7...</td>\n    </tr>\n    <tr>\n      <th>...</th>\n      <td>...</td>\n      <td>...</td>\n      <td>...</td>\n      <td>...</td>\n      <td>...</td>\n      <td>...</td>\n      <td>...</td>\n      <td>...</td>\n      <td>...</td>\n      <td>...</td>\n    </tr>\n    <tr>\n      <th>321572</th>\n      <td>M001147</td>\n      <td>108</td>\n      <td>2003-10-01</td>\n      <td>2003-10-22</td>\n      <td>Referred to the Subcommittee on the Constitution.</td>\n      <td>71</td>\n      <td>{'name': 'Government Operations and Politics'}</td>\n      <td>Proposing an amendment to the Constitution of ...</td>\n      <td>HJRES</td>\n      <td>https://api.congress.gov/v3/bill/108/hjres/71?...</td>\n    </tr>\n    <tr>\n      <th>321573</th>\n      <td>M001147</td>\n      <td>108</td>\n      <td>2004-07-22</td>\n      <td>2004-11-16</td>\n      <td>Motion to reconsider laid on the table Agreed ...</td>\n      <td>750</td>\n      <td>{'name': 'Commemorations'}</td>\n      <td>Recognizing the 130th anniversary of the creat...</td>\n      <td>HRES</td>\n      <td>https://api.congress.gov/v3/bill/108/hres/750?...</td>\n    </tr>\n    <tr>\n      <th>321574</th>\n      <td>M001147</td>\n      <td>108</td>\n      <td>2003-10-16</td>\n      <td>2003-10-20</td>\n      <td>Motion to reconsider laid on the table Agreed ...</td>\n      <td>400</td>\n      <td>{'name': 'International Affairs'}</td>\n      <td>Honoring the 25th anniversary of Pope John Pau...</td>\n      <td>HRES</td>\n      <td>https://api.congress.gov/v3/bill/108/hres/400?...</td>\n    </tr>\n    <tr>\n      <th>321575</th>\n      <td>M001147</td>\n      <td>108</td>\n      <td>2003-02-25</td>\n      <td>2003-05-21</td>\n      <td>The title of the measure was amended. Agreed t...</td>\n      <td>100</td>\n      <td>{'name': 'Commemorations'}</td>\n      <td>Recognizing the 100th anniversary year of the ...</td>\n      <td>HRES</td>\n      <td>https://api.congress.gov/v3/bill/108/hres/100?...</td>\n    </tr>\n    <tr>\n      <th>321576</th>\n      <td>M001147</td>\n      <td>108</td>\n      <td>2003-03-18</td>\n      <td>2003-03-24</td>\n      <td>Referred to the Subcommittee on Commerce, Trad...</td>\n      <td>100</td>\n      <td>{'name': 'Commemorations'}</td>\n      <td>Recognizing the 100th anniversary year of the ...</td>\n      <td>HCONRES</td>\n      <td>https://api.congress.gov/v3/bill/108/hconres/1...</td>\n    </tr>\n  </tbody>\n</table>\n<p>244379 rows × 10 columns</p>\n</div>"
     },
     "execution_count": 93,
     "metadata": {},
     "output_type": "execute_result"
    }
   ],
   "source": [
    "bills"
   ],
   "metadata": {
    "collapsed": false,
    "ExecuteTime": {
     "end_time": "2025-01-20T18:28:26.438723Z",
     "start_time": "2025-01-20T18:28:26.418440Z"
    }
   },
   "id": "c0b2d2eee640725a"
  },
  {
   "cell_type": "code",
   "execution_count": 94,
   "outputs": [
    {
     "data": {
      "text/plain": "actionText\nReferred      91601\nRead          41401\nAmendment     12749\nOn            11652\nPlaced         5481\n              ...  \nHomeland          1\nhearing           1\nSubsequent        1\nMOTION            1\nDischarged        1\nName: count, Length: 122, dtype: int64"
     },
     "execution_count": 94,
     "metadata": {},
     "output_type": "execute_result"
    }
   ],
   "source": [
    "bills_by_areas = bills[\"policyArea\"].str.split(\"'\").str.get(3).value_counts()\n",
    "bills[\"actionText\"].str.split(\" \").str.get(0).value_counts()\n"
   ],
   "metadata": {
    "collapsed": false,
    "ExecuteTime": {
     "end_time": "2025-01-20T18:28:27.175473Z",
     "start_time": "2025-01-20T18:28:26.435879Z"
    }
   },
   "id": "8853442dcca7cef4"
  },
  {
   "cell_type": "code",
   "execution_count": 105,
   "outputs": [
    {
     "data": {
      "text/plain": "    bioguideid congress introducedDate actionDate  \\\n129    K000366      110     2008-06-20 2008-10-13   \n285    J000288      112     2011-01-20 2011-11-09   \n344    J000288      114     2015-07-29 2016-06-13   \n359    J000288      111     2010-05-18 2010-06-09   \n371    J000288      111     2009-06-03 2009-06-19   \n\n                         actionText  billnumber  \\\n129  Became Public Law No: 110-397.        6338   \n285   Became Public Law No: 112-51.         368   \n344  Became Public Law No: 114-172.        3274   \n359  Became Public Law No: 111-190.        5330   \n371   Became Public Law No: 111-30.        2675   \n\n                                         policyArea  \\\n129                      {'name': 'Commemorations'}   \n285                                 {'name': 'Law'}   \n344  {'name': 'Government Operations and Politics'}   \n359                            {'name': 'Commerce'}   \n371                            {'name': 'Commerce'}   \n\n                                                 title billtype  \\\n129  To designate the facility of the United States...       HR   \n285                  Removal Clarification Act of 2011       HR   \n344  To designate the facility of the United States...       HR   \n359  To amend the Antitrust Criminal Penalty Enhanc...       HR   \n371  Antitrust Criminal Penalty Enhancement and Ref...       HR   \n\n                                                   url  \n129  https://api.congress.gov/v3/bill/110/hr/6338?f...  \n285  https://api.congress.gov/v3/bill/112/hr/368?fo...  \n344  https://api.congress.gov/v3/bill/114/hr/3274?f...  \n359  https://api.congress.gov/v3/bill/111/hr/5330?f...  \n371  https://api.congress.gov/v3/bill/111/hr/2675?f...  ",
      "text/html": "<div>\n<style scoped>\n    .dataframe tbody tr th:only-of-type {\n        vertical-align: middle;\n    }\n\n    .dataframe tbody tr th {\n        vertical-align: top;\n    }\n\n    .dataframe thead th {\n        text-align: right;\n    }\n</style>\n<table border=\"1\" class=\"dataframe\">\n  <thead>\n    <tr style=\"text-align: right;\">\n      <th></th>\n      <th>bioguideid</th>\n      <th>congress</th>\n      <th>introducedDate</th>\n      <th>actionDate</th>\n      <th>actionText</th>\n      <th>billnumber</th>\n      <th>policyArea</th>\n      <th>title</th>\n      <th>billtype</th>\n      <th>url</th>\n    </tr>\n  </thead>\n  <tbody>\n    <tr>\n      <th>129</th>\n      <td>K000366</td>\n      <td>110</td>\n      <td>2008-06-20</td>\n      <td>2008-10-13</td>\n      <td>Became Public Law No: 110-397.</td>\n      <td>6338</td>\n      <td>{'name': 'Commemorations'}</td>\n      <td>To designate the facility of the United States...</td>\n      <td>HR</td>\n      <td>https://api.congress.gov/v3/bill/110/hr/6338?f...</td>\n    </tr>\n    <tr>\n      <th>285</th>\n      <td>J000288</td>\n      <td>112</td>\n      <td>2011-01-20</td>\n      <td>2011-11-09</td>\n      <td>Became Public Law No: 112-51.</td>\n      <td>368</td>\n      <td>{'name': 'Law'}</td>\n      <td>Removal Clarification Act of 2011</td>\n      <td>HR</td>\n      <td>https://api.congress.gov/v3/bill/112/hr/368?fo...</td>\n    </tr>\n    <tr>\n      <th>344</th>\n      <td>J000288</td>\n      <td>114</td>\n      <td>2015-07-29</td>\n      <td>2016-06-13</td>\n      <td>Became Public Law No: 114-172.</td>\n      <td>3274</td>\n      <td>{'name': 'Government Operations and Politics'}</td>\n      <td>To designate the facility of the United States...</td>\n      <td>HR</td>\n      <td>https://api.congress.gov/v3/bill/114/hr/3274?f...</td>\n    </tr>\n    <tr>\n      <th>359</th>\n      <td>J000288</td>\n      <td>111</td>\n      <td>2010-05-18</td>\n      <td>2010-06-09</td>\n      <td>Became Public Law No: 111-190.</td>\n      <td>5330</td>\n      <td>{'name': 'Commerce'}</td>\n      <td>To amend the Antitrust Criminal Penalty Enhanc...</td>\n      <td>HR</td>\n      <td>https://api.congress.gov/v3/bill/111/hr/5330?f...</td>\n    </tr>\n    <tr>\n      <th>371</th>\n      <td>J000288</td>\n      <td>111</td>\n      <td>2009-06-03</td>\n      <td>2009-06-19</td>\n      <td>Became Public Law No: 111-30.</td>\n      <td>2675</td>\n      <td>{'name': 'Commerce'}</td>\n      <td>Antitrust Criminal Penalty Enhancement and Ref...</td>\n      <td>HR</td>\n      <td>https://api.congress.gov/v3/bill/111/hr/2675?f...</td>\n    </tr>\n  </tbody>\n</table>\n</div>"
     },
     "execution_count": 105,
     "metadata": {},
     "output_type": "execute_result"
    }
   ],
   "source": [
    "bill_action = bills[bills[\"actionText\"].str.split(\" \").str.get(0) == \"Became\"]\n",
    "bill_action.head()"
   ],
   "metadata": {
    "collapsed": false,
    "ExecuteTime": {
     "end_time": "2025-01-20T18:30:14.773232Z",
     "start_time": "2025-01-20T18:30:14.425961Z"
    }
   },
   "id": "fe483f12aa4e539d"
  },
  {
   "cell_type": "code",
   "execution_count": 95,
   "outputs": [
    {
     "name": "stdout",
     "output_type": "stream",
     "text": [
      "<class 'pandas.core.frame.DataFrame'>\n",
      "CategoricalIndex: 13 entries, 106 to 118\n",
      "Data columns (total 1 columns):\n",
      " #   Column  Non-Null Count  Dtype\n",
      "---  ------  --------------  -----\n",
      " 0   0       13 non-null     int64\n",
      "dtypes: int64(1)\n",
      "memory usage: 1.4 KB\n"
     ]
    }
   ],
   "source": [
    "bill_passed_by_congress = bill_action.groupby('congress', observed=True).size().to_frame()\n",
    "bill_passed_by_congress.info()"
   ],
   "metadata": {
    "collapsed": false,
    "ExecuteTime": {
     "end_time": "2025-01-20T18:28:27.175698Z",
     "start_time": "2025-01-20T18:28:27.118786Z"
    }
   },
   "id": "3d3ebe1247e3a9c1"
  },
  {
   "cell_type": "code",
   "execution_count": 96,
   "outputs": [
    {
     "data": {
      "text/plain": "congress\n106    16091\n107    16372\n108    15531\n109    19498\n110    20870\n111    19369\n112    17222\n113    15657\n114    18701\n115    18665\n116    20209\n117    24686\n118    21508\ndtype: int64"
     },
     "execution_count": 96,
     "metadata": {},
     "output_type": "execute_result"
    }
   ],
   "source": [
    "bills_by_congress = bills.groupby(\"congress\", observed=True)\n",
    "bills_by_congress.size()"
   ],
   "metadata": {
    "collapsed": false,
    "ExecuteTime": {
     "end_time": "2025-01-20T18:28:27.175780Z",
     "start_time": "2025-01-20T18:28:27.119009Z"
    }
   },
   "id": "44c3ac221b5d7a3a"
  },
  {
   "cell_type": "code",
   "execution_count": 97,
   "outputs": [
    {
     "data": {
      "text/plain": "    congress    majority\n0        106  Republican\n1        107       Split\n2        108  Republican\n3        109  Republican\n4        110  Democratic\n5        111  Democratic\n6        112       Split\n7        113       Split\n8        114  Republican\n9        115  Republican\n10       116       Split\n11       117  Democratic\n12       118       Split",
      "text/html": "<div>\n<style scoped>\n    .dataframe tbody tr th:only-of-type {\n        vertical-align: middle;\n    }\n\n    .dataframe tbody tr th {\n        vertical-align: top;\n    }\n\n    .dataframe thead th {\n        text-align: right;\n    }\n</style>\n<table border=\"1\" class=\"dataframe\">\n  <thead>\n    <tr style=\"text-align: right;\">\n      <th></th>\n      <th>congress</th>\n      <th>majority</th>\n    </tr>\n  </thead>\n  <tbody>\n    <tr>\n      <th>0</th>\n      <td>106</td>\n      <td>Republican</td>\n    </tr>\n    <tr>\n      <th>1</th>\n      <td>107</td>\n      <td>Split</td>\n    </tr>\n    <tr>\n      <th>2</th>\n      <td>108</td>\n      <td>Republican</td>\n    </tr>\n    <tr>\n      <th>3</th>\n      <td>109</td>\n      <td>Republican</td>\n    </tr>\n    <tr>\n      <th>4</th>\n      <td>110</td>\n      <td>Democratic</td>\n    </tr>\n    <tr>\n      <th>5</th>\n      <td>111</td>\n      <td>Democratic</td>\n    </tr>\n    <tr>\n      <th>6</th>\n      <td>112</td>\n      <td>Split</td>\n    </tr>\n    <tr>\n      <th>7</th>\n      <td>113</td>\n      <td>Split</td>\n    </tr>\n    <tr>\n      <th>8</th>\n      <td>114</td>\n      <td>Republican</td>\n    </tr>\n    <tr>\n      <th>9</th>\n      <td>115</td>\n      <td>Republican</td>\n    </tr>\n    <tr>\n      <th>10</th>\n      <td>116</td>\n      <td>Split</td>\n    </tr>\n    <tr>\n      <th>11</th>\n      <td>117</td>\n      <td>Democratic</td>\n    </tr>\n    <tr>\n      <th>12</th>\n      <td>118</td>\n      <td>Split</td>\n    </tr>\n  </tbody>\n</table>\n</div>"
     },
     "execution_count": 97,
     "metadata": {},
     "output_type": "execute_result"
    }
   ],
   "source": [
    "#create manually congress majority \n",
    "data = [\n",
    "    [106, \"Republican\"],\n",
    "    [107, \"Split\"],\n",
    "    [108,\"Republican\"],\n",
    "    [109, \"Republican\"], \n",
    "    [110, \"Democratic\"],\n",
    "    [111, \"Democratic\"],\n",
    "    [112, \"Split\"],\n",
    "    [113, \"Split\"],\n",
    "    [114, \"Republican\"], \n",
    "    [115, \"Republican\"],\n",
    "    [116, \"Split\"],\n",
    "    [117, \"Democratic\"],\n",
    "    [118,\"Split\"]\n",
    "    ]\n",
    "\n",
    "majority_by_congress = pd.DataFrame( data, columns=[\"congress\", \"majority\"])\n",
    "majority_by_congress"
   ],
   "metadata": {
    "collapsed": false,
    "ExecuteTime": {
     "end_time": "2025-01-20T18:28:27.176052Z",
     "start_time": "2025-01-20T18:28:27.121503Z"
    }
   },
   "id": "2e4c044cf97e3089"
  },
  {
   "cell_type": "code",
   "execution_count": 98,
   "outputs": [
    {
     "name": "stdout",
     "output_type": "stream",
     "text": [
      "<class 'pandas.core.frame.DataFrame'>\n",
      "CategoricalIndex: 13 entries, 106 to 118\n",
      "Data columns (total 1 columns):\n",
      " #   Column  Non-Null Count  Dtype\n",
      "---  ------  --------------  -----\n",
      " 0   0       13 non-null     int64\n",
      "dtypes: int64(1)\n",
      "memory usage: 1.4 KB\n"
     ]
    }
   ],
   "source": [
    "seriesintroducdebillcount = bills_by_congress.size()\n",
    "introducedbillcount = seriesintroducdebillcount.to_frame()\n",
    "introducedbillcount.info()\n",
    "#introducdebillcount.plot(kind=\"bar\",width=0.5,figsize=(20,6))"
   ],
   "metadata": {
    "collapsed": false,
    "ExecuteTime": {
     "end_time": "2025-01-20T18:28:27.176113Z",
     "start_time": "2025-01-20T18:28:27.124673Z"
    }
   },
   "id": "beef6de9ac0ea1c6"
  },
  {
   "cell_type": "code",
   "execution_count": 99,
   "outputs": [
    {
     "data": {
      "text/plain": "          Passed  Introduced\ncongress                    \n106          222       16091\n107          382       16372\n108          503       15531\n109          475       19498\n110          451       20870\n111          382       19369\n112          283       17222\n113          294       15657\n114          323       18701\n115          438       18665\n116          339       20209\n117          361       24686\n118           78       21508",
      "text/html": "<div>\n<style scoped>\n    .dataframe tbody tr th:only-of-type {\n        vertical-align: middle;\n    }\n\n    .dataframe tbody tr th {\n        vertical-align: top;\n    }\n\n    .dataframe thead th {\n        text-align: right;\n    }\n</style>\n<table border=\"1\" class=\"dataframe\">\n  <thead>\n    <tr style=\"text-align: right;\">\n      <th></th>\n      <th>Passed</th>\n      <th>Introduced</th>\n    </tr>\n    <tr>\n      <th>congress</th>\n      <th></th>\n      <th></th>\n    </tr>\n  </thead>\n  <tbody>\n    <tr>\n      <th>106</th>\n      <td>222</td>\n      <td>16091</td>\n    </tr>\n    <tr>\n      <th>107</th>\n      <td>382</td>\n      <td>16372</td>\n    </tr>\n    <tr>\n      <th>108</th>\n      <td>503</td>\n      <td>15531</td>\n    </tr>\n    <tr>\n      <th>109</th>\n      <td>475</td>\n      <td>19498</td>\n    </tr>\n    <tr>\n      <th>110</th>\n      <td>451</td>\n      <td>20870</td>\n    </tr>\n    <tr>\n      <th>111</th>\n      <td>382</td>\n      <td>19369</td>\n    </tr>\n    <tr>\n      <th>112</th>\n      <td>283</td>\n      <td>17222</td>\n    </tr>\n    <tr>\n      <th>113</th>\n      <td>294</td>\n      <td>15657</td>\n    </tr>\n    <tr>\n      <th>114</th>\n      <td>323</td>\n      <td>18701</td>\n    </tr>\n    <tr>\n      <th>115</th>\n      <td>438</td>\n      <td>18665</td>\n    </tr>\n    <tr>\n      <th>116</th>\n      <td>339</td>\n      <td>20209</td>\n    </tr>\n    <tr>\n      <th>117</th>\n      <td>361</td>\n      <td>24686</td>\n    </tr>\n    <tr>\n      <th>118</th>\n      <td>78</td>\n      <td>21508</td>\n    </tr>\n  </tbody>\n</table>\n</div>"
     },
     "execution_count": 99,
     "metadata": {},
     "output_type": "execute_result"
    }
   ],
   "source": [
    "# merge everything\n",
    "#week1.merge(foods, how=\"left\", on=\"Food ID\")\n",
    "congress_bills_passed_introduced = bill_passed_by_congress.merge(introducedbillcount, how=\"left\", on=\"congress\")\n",
    "congress_bills_passed_introduced\n",
    "congress_bills_passed_introduced.rename(columns={\"0_x\":\"Passed\", \"0_y\":\"Introduced\"})"
   ],
   "metadata": {
    "collapsed": false,
    "ExecuteTime": {
     "end_time": "2025-01-20T18:28:27.176236Z",
     "start_time": "2025-01-20T18:28:27.133479Z"
    }
   },
   "id": "9970816cb9fd17cc"
  },
  {
   "cell_type": "code",
   "execution_count": 100,
   "outputs": [
    {
     "data": {
      "text/plain": "<Axes: xlabel='congress'>"
     },
     "execution_count": 100,
     "metadata": {},
     "output_type": "execute_result"
    },
    {
     "data": {
      "text/plain": "<Figure size 2000x600 with 1 Axes>",
      "image/png": "[encoded data removed]"
     },
     "metadata": {},
     "output_type": "display_data"
    }
   ],
   "source": [
    "congress_bills_passed_introduced.plot(kind =\"bar\",width=0.5,figsize=(20,6))"
   ],
   "metadata": {
    "collapsed": false,
    "ExecuteTime": {
     "end_time": "2025-01-20T18:28:27.265400Z",
     "start_time": "2025-01-20T18:28:27.138847Z"
    }
   },
   "id": "d5044974bffe45d7"
  },
  {
   "cell_type": "code",
   "execution_count": 101,
   "outputs": [
    {
     "name": "stdout",
     "output_type": "stream",
     "text": [
      "<class 'pandas.core.frame.DataFrame'>\n",
      "RangeIndex: 2522 entries, 0 to 2521\n",
      "Data columns (total 8 columns):\n",
      " #   Column      Non-Null Count  Dtype  \n",
      "---  ------      --------------  -----  \n",
      " 0   bioguideid  2522 non-null   object \n",
      " 1   district    2047 non-null   float64\n",
      " 2   partyName   2522 non-null   object \n",
      " 3   state       2522 non-null   object \n",
      " 4   chamber     2522 non-null   object \n",
      " 5   startYear   2522 non-null   int64  \n",
      " 6   endYear     2522 non-null   int64  \n",
      " 7   name        2522 non-null   object \n",
      "dtypes: float64(1), int64(2), object(5)\n",
      "memory usage: 157.8+ KB\n"
     ]
    }
   ],
   "source": [
    "members.info()"
   ],
   "metadata": {
    "collapsed": false,
    "ExecuteTime": {
     "end_time": "2025-01-20T18:28:27.284186Z",
     "start_time": "2025-01-20T18:28:27.262097Z"
    }
   },
   "id": "9b9230a48eb9858e"
  },
  {
   "cell_type": "code",
   "execution_count": 102,
   "outputs": [
    {
     "name": "stdout",
     "output_type": "stream",
     "text": [
      "<class 'pandas.core.frame.DataFrame'>\n",
      "Index: 244379 entries, 0 to 321576\n",
      "Data columns (total 10 columns):\n",
      " #   Column          Non-Null Count   Dtype         \n",
      "---  ------          --------------   -----         \n",
      " 0   bioguideid      244379 non-null  object        \n",
      " 1   congress        244379 non-null  category      \n",
      " 2   introducedDate  244379 non-null  datetime64[ns]\n",
      " 3   actionDate      201385 non-null  datetime64[ns]\n",
      " 4   actionText      201385 non-null  object        \n",
      " 5   billnumber      244379 non-null  int64         \n",
      " 6   policyArea      244379 non-null  object        \n",
      " 7   title           244379 non-null  object        \n",
      " 8   billtype        173143 non-null  object        \n",
      " 9   url             244379 non-null  object        \n",
      "dtypes: category(1), datetime64[ns](2), int64(1), object(6)\n",
      "memory usage: 18.9+ MB\n"
     ]
    }
   ],
   "source": [
    "bills.info()"
   ],
   "metadata": {
    "collapsed": false,
    "ExecuteTime": {
     "end_time": "2025-01-20T18:28:27.423118Z",
     "start_time": "2025-01-20T18:28:27.268316Z"
    }
   },
   "id": "d8b9fcc444fdd2ea"
  },
  {
   "cell_type": "code",
   "execution_count": 103,
   "outputs": [
    {
     "data": {
      "text/plain": "  bioguideid  district   partyName       state                   chamber  \\\n0    L000604       4.0  Republican    Colorado  House of Representatives   \n1    G000579       8.0  Republican   Wisconsin  House of Representatives   \n2    B001297       4.0  Republican    Colorado  House of Representatives   \n3    P000604      10.0  Democratic  New Jersey  House of Representatives   \n4    R000354       2.0  Republican    Arkansas  House of Representatives   \n\n   startYear  endYear                name  \n0       2024        0         Lopez, Greg  \n1       2017     2024     Gallagher, Mike  \n2       2015     2024           Buck, Ken  \n3       2012     2024    Payne, Donald M.  \n4       1985     1991  Robinson, Tommy F.  ",
      "text/html": "<div>\n<style scoped>\n    .dataframe tbody tr th:only-of-type {\n        vertical-align: middle;\n    }\n\n    .dataframe tbody tr th {\n        vertical-align: top;\n    }\n\n    .dataframe thead th {\n        text-align: right;\n    }\n</style>\n<table border=\"1\" class=\"dataframe\">\n  <thead>\n    <tr style=\"text-align: right;\">\n      <th></th>\n      <th>bioguideid</th>\n      <th>district</th>\n      <th>partyName</th>\n      <th>state</th>\n      <th>chamber</th>\n      <th>startYear</th>\n      <th>endYear</th>\n      <th>name</th>\n    </tr>\n  </thead>\n  <tbody>\n    <tr>\n      <th>0</th>\n      <td>L000604</td>\n      <td>4.0</td>\n      <td>Republican</td>\n      <td>Colorado</td>\n      <td>House of Representatives</td>\n      <td>2024</td>\n      <td>0</td>\n      <td>Lopez, Greg</td>\n    </tr>\n    <tr>\n      <th>1</th>\n      <td>G000579</td>\n      <td>8.0</td>\n      <td>Republican</td>\n      <td>Wisconsin</td>\n      <td>House of Representatives</td>\n      <td>2017</td>\n      <td>2024</td>\n      <td>Gallagher, Mike</td>\n    </tr>\n    <tr>\n      <th>2</th>\n      <td>B001297</td>\n      <td>4.0</td>\n      <td>Republican</td>\n      <td>Colorado</td>\n      <td>House of Representatives</td>\n      <td>2015</td>\n      <td>2024</td>\n      <td>Buck, Ken</td>\n    </tr>\n    <tr>\n      <th>3</th>\n      <td>P000604</td>\n      <td>10.0</td>\n      <td>Democratic</td>\n      <td>New Jersey</td>\n      <td>House of Representatives</td>\n      <td>2012</td>\n      <td>2024</td>\n      <td>Payne, Donald M.</td>\n    </tr>\n    <tr>\n      <th>4</th>\n      <td>R000354</td>\n      <td>2.0</td>\n      <td>Republican</td>\n      <td>Arkansas</td>\n      <td>House of Representatives</td>\n      <td>1985</td>\n      <td>1991</td>\n      <td>Robinson, Tommy F.</td>\n    </tr>\n  </tbody>\n</table>\n</div>"
     },
     "execution_count": 103,
     "metadata": {},
     "output_type": "execute_result"
    }
   ],
   "source": [
    "members.head()"
   ],
   "metadata": {
    "collapsed": false,
    "ExecuteTime": {
     "end_time": "2025-01-20T18:28:27.423496Z",
     "start_time": "2025-01-20T18:28:27.337539Z"
    }
   },
   "id": "ee64a9fd2038cfa4"
  },
  {
   "cell_type": "code",
   "execution_count": 104,
   "outputs": [],
   "source": [
    "#bills.merge(members, how=\"left\", on=\"bioguideid\")"
   ],
   "metadata": {
    "collapsed": false,
    "ExecuteTime": {
     "end_time": "2025-01-20T18:28:27.423534Z",
     "start_time": "2025-01-20T18:28:27.349568Z"
    }
   },
   "id": "f14c81e4eba684f"
  },
  {
   "cell_type": "code",
   "execution_count": 104,
   "outputs": [],
   "source": [],
   "metadata": {
    "collapsed": false,
    "ExecuteTime": {
     "end_time": "2025-01-20T18:28:27.423565Z",
     "start_time": "2025-01-20T18:28:27.352376Z"
    }
   },
   "id": "36feef7822d15e2f"
  }
 ],
 "metadata": {
  "kernelspec": {
   "display_name": "Python 3",
   "language": "python",
   "name": "python3"
  },
  "language_info": {
   "codemirror_mode": {
    "name": "ipython",
    "version": 2
   },
   "file_extension": ".py",
   "mimetype": "text/x-python",
   "name": "python",
   "nbconvert_exporter": "python",
   "pygments_lexer": "ipython2",
   "version": "2.7.6"
  }
 },
 "nbformat": 4,
 "nbformat_minor": 5
}
