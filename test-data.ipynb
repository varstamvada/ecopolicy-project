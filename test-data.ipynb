{
 "cells": [
  {
   "cell_type": "code",
   "execution_count": 1,
   "id": "initial_id",
   "metadata": {
    "collapsed": true,
    "ExecuteTime": {
     "end_time": "2025-01-12T20:04:15.409935Z",
     "start_time": "2025-01-12T20:04:14.926661Z"
    }
   },
   "outputs": [],
   "source": [
    "import pandas as pd"
   ]
  },
  {
   "cell_type": "code",
   "execution_count": 2,
   "outputs": [],
   "source": [
    "members = pd.read_csv(\"unique_members.csv\")\n",
    "detail_mem = pd.read_csv(\"memberdetails.csv\")"
   ],
   "metadata": {
    "collapsed": false,
    "ExecuteTime": {
     "end_time": "2025-01-12T20:05:26.176940Z",
     "start_time": "2025-01-12T20:05:26.157382Z"
    }
   },
   "id": "7c3842b148554b19"
  },
  {
   "cell_type": "code",
   "execution_count": 3,
   "outputs": [
    {
     "data": {
      "text/plain": "  bioguideId  district   partyName       state                   chamber  \\\n0    L000604       4.0  Republican    Colorado  House of Representatives   \n1    G000579       8.0  Republican   Wisconsin  House of Representatives   \n2    B001297       4.0  Republican    Colorado  House of Representatives   \n3    P000604      10.0  Democratic  New Jersey  House of Representatives   \n4    R000354       2.0  Republican    Arkansas  House of Representatives   \n\n   startYear  endYear                name  \n0       2024        0         Lopez, Greg  \n1       2017     2024     Gallagher, Mike  \n2       2015     2024           Buck, Ken  \n3       2012     2024    Payne, Donald M.  \n4       1985     1991  Robinson, Tommy F.  ",
      "text/html": "<div>\n<style scoped>\n    .dataframe tbody tr th:only-of-type {\n        vertical-align: middle;\n    }\n\n    .dataframe tbody tr th {\n        vertical-align: top;\n    }\n\n    .dataframe thead th {\n        text-align: right;\n    }\n</style>\n<table border=\"1\" class=\"dataframe\">\n  <thead>\n    <tr style=\"text-align: right;\">\n      <th></th>\n      <th>bioguideId</th>\n      <th>district</th>\n      <th>partyName</th>\n      <th>state</th>\n      <th>chamber</th>\n      <th>startYear</th>\n      <th>endYear</th>\n      <th>name</th>\n    </tr>\n  </thead>\n  <tbody>\n    <tr>\n      <th>0</th>\n      <td>L000604</td>\n      <td>4.0</td>\n      <td>Republican</td>\n      <td>Colorado</td>\n      <td>House of Representatives</td>\n      <td>2024</td>\n      <td>0</td>\n      <td>Lopez, Greg</td>\n    </tr>\n    <tr>\n      <th>1</th>\n      <td>G000579</td>\n      <td>8.0</td>\n      <td>Republican</td>\n      <td>Wisconsin</td>\n      <td>House of Representatives</td>\n      <td>2017</td>\n      <td>2024</td>\n      <td>Gallagher, Mike</td>\n    </tr>\n    <tr>\n      <th>2</th>\n      <td>B001297</td>\n      <td>4.0</td>\n      <td>Republican</td>\n      <td>Colorado</td>\n      <td>House of Representatives</td>\n      <td>2015</td>\n      <td>2024</td>\n      <td>Buck, Ken</td>\n    </tr>\n    <tr>\n      <th>3</th>\n      <td>P000604</td>\n      <td>10.0</td>\n      <td>Democratic</td>\n      <td>New Jersey</td>\n      <td>House of Representatives</td>\n      <td>2012</td>\n      <td>2024</td>\n      <td>Payne, Donald M.</td>\n    </tr>\n    <tr>\n      <th>4</th>\n      <td>R000354</td>\n      <td>2.0</td>\n      <td>Republican</td>\n      <td>Arkansas</td>\n      <td>House of Representatives</td>\n      <td>1985</td>\n      <td>1991</td>\n      <td>Robinson, Tommy F.</td>\n    </tr>\n  </tbody>\n</table>\n</div>"
     },
     "execution_count": 3,
     "metadata": {},
     "output_type": "execute_result"
    }
   ],
   "source": [
    "members.head(\n",
    ")"
   ],
   "metadata": {
    "collapsed": false,
    "ExecuteTime": {
     "end_time": "2025-01-12T20:05:34.835179Z",
     "start_time": "2025-01-12T20:05:34.830017Z"
    }
   },
   "id": "597e3aa3d558fde3"
  },
  {
   "cell_type": "code",
   "execution_count": 4,
   "outputs": [
    {
     "data": {
      "text/plain": "  bioguideId  invertedOrderName  currentMember  terms  startYear  birthYear  \\\n0    L000604        Lopez, Greg           True      1       2024       1964   \n1    G000579    Gallagher, Mike          False      4       2017       1984   \n2    B001297          Buck, Ken          False      5       2015       1959   \n3    P000604   Payne, Donald M.          False      7       2012       1958   \n4    C000537  Clyburn, James E.           True     16       1993       1940   \n\n   sponsoredLegislation  cosponsoredLegislation  \n0                   NaN                      12  \n1                 171.0                     885  \n2                 123.0                     801  \n3                 123.0                    2946  \n4                 118.0                    2706  ",
      "text/html": "<div>\n<style scoped>\n    .dataframe tbody tr th:only-of-type {\n        vertical-align: middle;\n    }\n\n    .dataframe tbody tr th {\n        vertical-align: top;\n    }\n\n    .dataframe thead th {\n        text-align: right;\n    }\n</style>\n<table border=\"1\" class=\"dataframe\">\n  <thead>\n    <tr style=\"text-align: right;\">\n      <th></th>\n      <th>bioguideId</th>\n      <th>invertedOrderName</th>\n      <th>currentMember</th>\n      <th>terms</th>\n      <th>startYear</th>\n      <th>birthYear</th>\n      <th>sponsoredLegislation</th>\n      <th>cosponsoredLegislation</th>\n    </tr>\n  </thead>\n  <tbody>\n    <tr>\n      <th>0</th>\n      <td>L000604</td>\n      <td>Lopez, Greg</td>\n      <td>True</td>\n      <td>1</td>\n      <td>2024</td>\n      <td>1964</td>\n      <td>NaN</td>\n      <td>12</td>\n    </tr>\n    <tr>\n      <th>1</th>\n      <td>G000579</td>\n      <td>Gallagher, Mike</td>\n      <td>False</td>\n      <td>4</td>\n      <td>2017</td>\n      <td>1984</td>\n      <td>171.0</td>\n      <td>885</td>\n    </tr>\n    <tr>\n      <th>2</th>\n      <td>B001297</td>\n      <td>Buck, Ken</td>\n      <td>False</td>\n      <td>5</td>\n      <td>2015</td>\n      <td>1959</td>\n      <td>123.0</td>\n      <td>801</td>\n    </tr>\n    <tr>\n      <th>3</th>\n      <td>P000604</td>\n      <td>Payne, Donald M.</td>\n      <td>False</td>\n      <td>7</td>\n      <td>2012</td>\n      <td>1958</td>\n      <td>123.0</td>\n      <td>2946</td>\n    </tr>\n    <tr>\n      <th>4</th>\n      <td>C000537</td>\n      <td>Clyburn, James E.</td>\n      <td>True</td>\n      <td>16</td>\n      <td>1993</td>\n      <td>1940</td>\n      <td>118.0</td>\n      <td>2706</td>\n    </tr>\n  </tbody>\n</table>\n</div>"
     },
     "execution_count": 4,
     "metadata": {},
     "output_type": "execute_result"
    }
   ],
   "source": [
    "detail_mem.head()"
   ],
   "metadata": {
    "collapsed": false,
    "ExecuteTime": {
     "end_time": "2025-01-12T20:05:45.497685Z",
     "start_time": "2025-01-12T20:05:45.497361Z"
    }
   },
   "id": "d160be72368e98df"
  },
  {
   "cell_type": "code",
   "execution_count": 5,
   "outputs": [
    {
     "data": {
      "text/plain": "     bioguideId  district   partyName         state                   chamber  \\\n0       L000604       4.0  Republican      Colorado  House of Representatives   \n1       G000579       8.0  Republican     Wisconsin  House of Representatives   \n2       B001297       4.0  Republican      Colorado  House of Representatives   \n3       P000604      10.0  Democratic    New Jersey  House of Representatives   \n4       R000354       2.0  Republican      Arkansas  House of Representatives   \n...         ...       ...         ...           ...                       ...   \n2517    F000229       6.0  Democratic       Georgia  House of Representatives   \n2518    F000218       7.0  Democratic       Alabama  House of Representatives   \n2519    F000215       1.0  Democratic    New Jersey  House of Representatives   \n2520    F000209      11.0  Democratic  Pennsylvania  House of Representatives   \n2521    F000208       5.0  Democratic       Alabama  House of Representatives   \n\n      startYear_x  endYear                 name invertedOrderName  \\\n0            2024        0          Lopez, Greg       Lopez, Greg   \n1            2017     2024      Gallagher, Mike   Gallagher, Mike   \n2            2015     2024            Buck, Ken         Buck, Ken   \n3            2012     2024     Payne, Donald M.  Payne, Donald M.   \n4            1985     1991   Robinson, Tommy F.               NaN   \n...           ...      ...                  ...               ...   \n2517         1953     1979  Flynt, John J., Jr.               NaN   \n2518         1969     1979      Flowers, Walter               NaN   \n2519         1975     1991     Florio, James J.               NaN   \n2520         1955     1981     Flood, Daniel J.               NaN   \n2521         1977     1991    Flippo, Ronnie G.               NaN   \n\n     currentMember  terms  startYear_y  birthYear  sponsoredLegislation  \\\n0             True    1.0       2024.0     1964.0                   NaN   \n1            False    4.0       2017.0     1984.0                 171.0   \n2            False    5.0       2015.0     1959.0                 123.0   \n3            False    7.0       2012.0     1958.0                 123.0   \n4              NaN    NaN          NaN        NaN                   NaN   \n...            ...    ...          ...        ...                   ...   \n2517           NaN    NaN          NaN        NaN                   NaN   \n2518           NaN    NaN          NaN        NaN                   NaN   \n2519           NaN    NaN          NaN        NaN                   NaN   \n2520           NaN    NaN          NaN        NaN                   NaN   \n2521           NaN    NaN          NaN        NaN                   NaN   \n\n      cosponsoredLegislation  \n0                       12.0  \n1                      885.0  \n2                      801.0  \n3                     2946.0  \n4                        NaN  \n...                      ...  \n2517                     NaN  \n2518                     NaN  \n2519                     NaN  \n2520                     NaN  \n2521                     NaN  \n\n[2522 rows x 15 columns]",
      "text/html": "<div>\n<style scoped>\n    .dataframe tbody tr th:only-of-type {\n        vertical-align: middle;\n    }\n\n    .dataframe tbody tr th {\n        vertical-align: top;\n    }\n\n    .dataframe thead th {\n        text-align: right;\n    }\n</style>\n<table border=\"1\" class=\"dataframe\">\n  <thead>\n    <tr style=\"text-align: right;\">\n      <th></th>\n      <th>bioguideId</th>\n      <th>district</th>\n      <th>partyName</th>\n      <th>state</th>\n      <th>chamber</th>\n      <th>startYear_x</th>\n      <th>endYear</th>\n      <th>name</th>\n      <th>invertedOrderName</th>\n      <th>currentMember</th>\n      <th>terms</th>\n      <th>startYear_y</th>\n      <th>birthYear</th>\n      <th>sponsoredLegislation</th>\n      <th>cosponsoredLegislation</th>\n    </tr>\n  </thead>\n  <tbody>\n    <tr>\n      <th>0</th>\n      <td>L000604</td>\n      <td>4.0</td>\n      <td>Republican</td>\n      <td>Colorado</td>\n      <td>House of Representatives</td>\n      <td>2024</td>\n      <td>0</td>\n      <td>Lopez, Greg</td>\n      <td>Lopez, Greg</td>\n      <td>True</td>\n      <td>1.0</td>\n      <td>2024.0</td>\n      <td>1964.0</td>\n      <td>NaN</td>\n      <td>12.0</td>\n    </tr>\n    <tr>\n      <th>1</th>\n      <td>G000579</td>\n      <td>8.0</td>\n      <td>Republican</td>\n      <td>Wisconsin</td>\n      <td>House of Representatives</td>\n      <td>2017</td>\n      <td>2024</td>\n      <td>Gallagher, Mike</td>\n      <td>Gallagher, Mike</td>\n      <td>False</td>\n      <td>4.0</td>\n      <td>2017.0</td>\n      <td>1984.0</td>\n      <td>171.0</td>\n      <td>885.0</td>\n    </tr>\n    <tr>\n      <th>2</th>\n      <td>B001297</td>\n      <td>4.0</td>\n      <td>Republican</td>\n      <td>Colorado</td>\n      <td>House of Representatives</td>\n      <td>2015</td>\n      <td>2024</td>\n      <td>Buck, Ken</td>\n      <td>Buck, Ken</td>\n      <td>False</td>\n      <td>5.0</td>\n      <td>2015.0</td>\n      <td>1959.0</td>\n      <td>123.0</td>\n      <td>801.0</td>\n    </tr>\n    <tr>\n      <th>3</th>\n      <td>P000604</td>\n      <td>10.0</td>\n      <td>Democratic</td>\n      <td>New Jersey</td>\n      <td>House of Representatives</td>\n      <td>2012</td>\n      <td>2024</td>\n      <td>Payne, Donald M.</td>\n      <td>Payne, Donald M.</td>\n      <td>False</td>\n      <td>7.0</td>\n      <td>2012.0</td>\n      <td>1958.0</td>\n      <td>123.0</td>\n      <td>2946.0</td>\n    </tr>\n    <tr>\n      <th>4</th>\n      <td>R000354</td>\n      <td>2.0</td>\n      <td>Republican</td>\n      <td>Arkansas</td>\n      <td>House of Representatives</td>\n      <td>1985</td>\n      <td>1991</td>\n      <td>Robinson, Tommy F.</td>\n      <td>NaN</td>\n      <td>NaN</td>\n      <td>NaN</td>\n      <td>NaN</td>\n      <td>NaN</td>\n      <td>NaN</td>\n      <td>NaN</td>\n    </tr>\n    <tr>\n      <th>...</th>\n      <td>...</td>\n      <td>...</td>\n      <td>...</td>\n      <td>...</td>\n      <td>...</td>\n      <td>...</td>\n      <td>...</td>\n      <td>...</td>\n      <td>...</td>\n      <td>...</td>\n      <td>...</td>\n      <td>...</td>\n      <td>...</td>\n      <td>...</td>\n      <td>...</td>\n    </tr>\n    <tr>\n      <th>2517</th>\n      <td>F000229</td>\n      <td>6.0</td>\n      <td>Democratic</td>\n      <td>Georgia</td>\n      <td>House of Representatives</td>\n      <td>1953</td>\n      <td>1979</td>\n      <td>Flynt, John J., Jr.</td>\n      <td>NaN</td>\n      <td>NaN</td>\n      <td>NaN</td>\n      <td>NaN</td>\n      <td>NaN</td>\n      <td>NaN</td>\n      <td>NaN</td>\n    </tr>\n    <tr>\n      <th>2518</th>\n      <td>F000218</td>\n      <td>7.0</td>\n      <td>Democratic</td>\n      <td>Alabama</td>\n      <td>House of Representatives</td>\n      <td>1969</td>\n      <td>1979</td>\n      <td>Flowers, Walter</td>\n      <td>NaN</td>\n      <td>NaN</td>\n      <td>NaN</td>\n      <td>NaN</td>\n      <td>NaN</td>\n      <td>NaN</td>\n      <td>NaN</td>\n    </tr>\n    <tr>\n      <th>2519</th>\n      <td>F000215</td>\n      <td>1.0</td>\n      <td>Democratic</td>\n      <td>New Jersey</td>\n      <td>House of Representatives</td>\n      <td>1975</td>\n      <td>1991</td>\n      <td>Florio, James J.</td>\n      <td>NaN</td>\n      <td>NaN</td>\n      <td>NaN</td>\n      <td>NaN</td>\n      <td>NaN</td>\n      <td>NaN</td>\n      <td>NaN</td>\n    </tr>\n    <tr>\n      <th>2520</th>\n      <td>F000209</td>\n      <td>11.0</td>\n      <td>Democratic</td>\n      <td>Pennsylvania</td>\n      <td>House of Representatives</td>\n      <td>1955</td>\n      <td>1981</td>\n      <td>Flood, Daniel J.</td>\n      <td>NaN</td>\n      <td>NaN</td>\n      <td>NaN</td>\n      <td>NaN</td>\n      <td>NaN</td>\n      <td>NaN</td>\n      <td>NaN</td>\n    </tr>\n    <tr>\n      <th>2521</th>\n      <td>F000208</td>\n      <td>5.0</td>\n      <td>Democratic</td>\n      <td>Alabama</td>\n      <td>House of Representatives</td>\n      <td>1977</td>\n      <td>1991</td>\n      <td>Flippo, Ronnie G.</td>\n      <td>NaN</td>\n      <td>NaN</td>\n      <td>NaN</td>\n      <td>NaN</td>\n      <td>NaN</td>\n      <td>NaN</td>\n      <td>NaN</td>\n    </tr>\n  </tbody>\n</table>\n<p>2522 rows × 15 columns</p>\n</div>"
     },
     "execution_count": 5,
     "metadata": {},
     "output_type": "execute_result"
    }
   ],
   "source": [
    "members.merge(detail_mem, how=\"left\", on=\"bioguideId\")"
   ],
   "metadata": {
    "collapsed": false,
    "ExecuteTime": {
     "end_time": "2025-01-12T20:09:10.130859Z",
     "start_time": "2025-01-12T20:09:10.108995Z"
    }
   },
   "id": "db9c7823ce95176d"
  },
  {
   "cell_type": "code",
   "execution_count": null,
   "outputs": [],
   "source": [],
   "metadata": {
    "collapsed": false
   },
   "id": "49b60bf1873e9e54"
  }
 ],
 "metadata": {
  "kernelspec": {
   "display_name": "Python 3",
   "language": "python",
   "name": "python3"
  },
  "language_info": {
   "codemirror_mode": {
    "name": "ipython",
    "version": 2
   },
   "file_extension": ".py",
   "mimetype": "text/x-python",
   "name": "python",
   "nbconvert_exporter": "python",
   "pygments_lexer": "ipython2",
   "version": "2.7.6"
  }
 },
 "nbformat": 4,
 "nbformat_minor": 5
}
