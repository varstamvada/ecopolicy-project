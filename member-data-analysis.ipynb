{
 "cells": [
  {
   "cell_type": "code",
   "execution_count": 116,
   "id": "initial_id",
   "metadata": {
    "collapsed": true,
    "ExecuteTime": {
     "end_time": "2025-01-12T21:26:10.705478Z",
     "start_time": "2025-01-12T21:26:10.689079Z"
    }
   },
   "outputs": [],
   "source": [
    "import pandas as pd"
   ]
  },
  {
   "cell_type": "code",
   "execution_count": 117,
   "outputs": [],
   "source": [
    "members = pd.read_csv(\"unique_members.csv\")\n",
    "detail_mem = pd.read_csv(\"memberdetails.csv\")"
   ],
   "metadata": {
    "collapsed": false,
    "ExecuteTime": {
     "end_time": "2025-01-12T21:26:10.706343Z",
     "start_time": "2025-01-12T21:26:10.691671Z"
    }
   },
   "id": "7c3842b148554b19"
  },
  {
   "cell_type": "code",
   "execution_count": 118,
   "outputs": [
    {
     "data": {
      "text/plain": "  bioguideId  district   partyName       state                   chamber  \\\n0    L000604       4.0  Republican    Colorado  House of Representatives   \n1    G000579       8.0  Republican   Wisconsin  House of Representatives   \n2    B001297       4.0  Republican    Colorado  House of Representatives   \n3    P000604      10.0  Democratic  New Jersey  House of Representatives   \n4    R000354       2.0  Republican    Arkansas  House of Representatives   \n\n   startYear  endYear                name  \n0       2024        0         Lopez, Greg  \n1       2017     2024     Gallagher, Mike  \n2       2015     2024           Buck, Ken  \n3       2012     2024    Payne, Donald M.  \n4       1985     1991  Robinson, Tommy F.  ",
      "text/html": "<div>\n<style scoped>\n    .dataframe tbody tr th:only-of-type {\n        vertical-align: middle;\n    }\n\n    .dataframe tbody tr th {\n        vertical-align: top;\n    }\n\n    .dataframe thead th {\n        text-align: right;\n    }\n</style>\n<table border=\"1\" class=\"dataframe\">\n  <thead>\n    <tr style=\"text-align: right;\">\n      <th></th>\n      <th>bioguideId</th>\n      <th>district</th>\n      <th>partyName</th>\n      <th>state</th>\n      <th>chamber</th>\n      <th>startYear</th>\n      <th>endYear</th>\n      <th>name</th>\n    </tr>\n  </thead>\n  <tbody>\n    <tr>\n      <th>0</th>\n      <td>L000604</td>\n      <td>4.0</td>\n      <td>Republican</td>\n      <td>Colorado</td>\n      <td>House of Representatives</td>\n      <td>2024</td>\n      <td>0</td>\n      <td>Lopez, Greg</td>\n    </tr>\n    <tr>\n      <th>1</th>\n      <td>G000579</td>\n      <td>8.0</td>\n      <td>Republican</td>\n      <td>Wisconsin</td>\n      <td>House of Representatives</td>\n      <td>2017</td>\n      <td>2024</td>\n      <td>Gallagher, Mike</td>\n    </tr>\n    <tr>\n      <th>2</th>\n      <td>B001297</td>\n      <td>4.0</td>\n      <td>Republican</td>\n      <td>Colorado</td>\n      <td>House of Representatives</td>\n      <td>2015</td>\n      <td>2024</td>\n      <td>Buck, Ken</td>\n    </tr>\n    <tr>\n      <th>3</th>\n      <td>P000604</td>\n      <td>10.0</td>\n      <td>Democratic</td>\n      <td>New Jersey</td>\n      <td>House of Representatives</td>\n      <td>2012</td>\n      <td>2024</td>\n      <td>Payne, Donald M.</td>\n    </tr>\n    <tr>\n      <th>4</th>\n      <td>R000354</td>\n      <td>2.0</td>\n      <td>Republican</td>\n      <td>Arkansas</td>\n      <td>House of Representatives</td>\n      <td>1985</td>\n      <td>1991</td>\n      <td>Robinson, Tommy F.</td>\n    </tr>\n  </tbody>\n</table>\n</div>"
     },
     "execution_count": 118,
     "metadata": {},
     "output_type": "execute_result"
    }
   ],
   "source": [
    "members.head()"
   ],
   "metadata": {
    "collapsed": false,
    "ExecuteTime": {
     "end_time": "2025-01-12T21:26:10.730174Z",
     "start_time": "2025-01-12T21:26:10.716858Z"
    }
   },
   "id": "597e3aa3d558fde3"
  },
  {
   "cell_type": "code",
   "execution_count": 119,
   "outputs": [
    {
     "data": {
      "text/plain": "  bioguideId  invertedOrderName  currentMember  terms  startYear  birthYear  \\\n0    L000604        Lopez, Greg           True      1       2024       1964   \n1    G000579    Gallagher, Mike          False      4       2017       1984   \n2    B001297          Buck, Ken          False      5       2015       1959   \n3    P000604   Payne, Donald M.          False      7       2012       1958   \n4    C000537  Clyburn, James E.           True     16       1993       1940   \n\n   sponsoredLegislation  cosponsoredLegislation  \n0                   NaN                      12  \n1                 171.0                     885  \n2                 123.0                     801  \n3                 123.0                    2946  \n4                 118.0                    2706  ",
      "text/html": "<div>\n<style scoped>\n    .dataframe tbody tr th:only-of-type {\n        vertical-align: middle;\n    }\n\n    .dataframe tbody tr th {\n        vertical-align: top;\n    }\n\n    .dataframe thead th {\n        text-align: right;\n    }\n</style>\n<table border=\"1\" class=\"dataframe\">\n  <thead>\n    <tr style=\"text-align: right;\">\n      <th></th>\n      <th>bioguideId</th>\n      <th>invertedOrderName</th>\n      <th>currentMember</th>\n      <th>terms</th>\n      <th>startYear</th>\n      <th>birthYear</th>\n      <th>sponsoredLegislation</th>\n      <th>cosponsoredLegislation</th>\n    </tr>\n  </thead>\n  <tbody>\n    <tr>\n      <th>0</th>\n      <td>L000604</td>\n      <td>Lopez, Greg</td>\n      <td>True</td>\n      <td>1</td>\n      <td>2024</td>\n      <td>1964</td>\n      <td>NaN</td>\n      <td>12</td>\n    </tr>\n    <tr>\n      <th>1</th>\n      <td>G000579</td>\n      <td>Gallagher, Mike</td>\n      <td>False</td>\n      <td>4</td>\n      <td>2017</td>\n      <td>1984</td>\n      <td>171.0</td>\n      <td>885</td>\n    </tr>\n    <tr>\n      <th>2</th>\n      <td>B001297</td>\n      <td>Buck, Ken</td>\n      <td>False</td>\n      <td>5</td>\n      <td>2015</td>\n      <td>1959</td>\n      <td>123.0</td>\n      <td>801</td>\n    </tr>\n    <tr>\n      <th>3</th>\n      <td>P000604</td>\n      <td>Payne, Donald M.</td>\n      <td>False</td>\n      <td>7</td>\n      <td>2012</td>\n      <td>1958</td>\n      <td>123.0</td>\n      <td>2946</td>\n    </tr>\n    <tr>\n      <th>4</th>\n      <td>C000537</td>\n      <td>Clyburn, James E.</td>\n      <td>True</td>\n      <td>16</td>\n      <td>1993</td>\n      <td>1940</td>\n      <td>118.0</td>\n      <td>2706</td>\n    </tr>\n  </tbody>\n</table>\n</div>"
     },
     "execution_count": 119,
     "metadata": {},
     "output_type": "execute_result"
    }
   ],
   "source": [
    "detail_mem.head()"
   ],
   "metadata": {
    "collapsed": false,
    "ExecuteTime": {
     "end_time": "2025-01-12T21:26:10.734330Z",
     "start_time": "2025-01-12T21:26:10.724554Z"
    }
   },
   "id": "d160be72368e98df"
  },
  {
   "cell_type": "code",
   "execution_count": 120,
   "outputs": [],
   "source": [
    "fullmembers = members.merge(detail_mem, how=\"left\", on=\"bioguideId\")"
   ],
   "metadata": {
    "collapsed": false,
    "ExecuteTime": {
     "end_time": "2025-01-12T21:26:10.734901Z",
     "start_time": "2025-01-12T21:26:10.728878Z"
    }
   },
   "id": "db9c7823ce95176d"
  },
  {
   "cell_type": "code",
   "execution_count": 121,
   "outputs": [],
   "source": [
    "fullmembers[\"district\"] = fullmembers[\"district\"].fillna(0)\n",
    "fullmembers[\"sponsoredLegislation\"] = fullmembers[\"sponsoredLegislation\"].fillna(0)\n",
    "fullmembers[\"cosponsoredLegislation\"] = fullmembers[\"cosponsoredLegislation\"].fillna(0)\n",
    "\n",
    "\n",
    "\n"
   ],
   "metadata": {
    "collapsed": false,
    "ExecuteTime": {
     "end_time": "2025-01-12T21:26:10.750092Z",
     "start_time": "2025-01-12T21:26:10.733286Z"
    }
   },
   "id": "49b60bf1873e9e54"
  },
  {
   "cell_type": "code",
   "execution_count": 122,
   "outputs": [
    {
     "data": {
      "text/plain": "     bioguideId  district   partyName         state                   chamber  \\\n0       L000604       4.0  Republican      Colorado  House of Representatives   \n1       G000579       8.0  Republican     Wisconsin  House of Representatives   \n2       B001297       4.0  Republican      Colorado  House of Representatives   \n3       P000604      10.0  Democratic    New Jersey  House of Representatives   \n4       R000354       2.0  Republican      Arkansas  House of Representatives   \n...         ...       ...         ...           ...                       ...   \n2517    F000229       6.0  Democratic       Georgia  House of Representatives   \n2518    F000218       7.0  Democratic       Alabama  House of Representatives   \n2519    F000215       1.0  Democratic    New Jersey  House of Representatives   \n2520    F000209      11.0  Democratic  Pennsylvania  House of Representatives   \n2521    F000208       5.0  Democratic       Alabama  House of Representatives   \n\n      startYear_x  endYear                 name invertedOrderName  \\\n0            2024        0          Lopez, Greg       Lopez, Greg   \n1            2017     2024      Gallagher, Mike   Gallagher, Mike   \n2            2015     2024            Buck, Ken         Buck, Ken   \n3            2012     2024     Payne, Donald M.  Payne, Donald M.   \n4            1985     1991   Robinson, Tommy F.               NaN   \n...           ...      ...                  ...               ...   \n2517         1953     1979  Flynt, John J., Jr.               NaN   \n2518         1969     1979      Flowers, Walter               NaN   \n2519         1975     1991     Florio, James J.               NaN   \n2520         1955     1981     Flood, Daniel J.               NaN   \n2521         1977     1991    Flippo, Ronnie G.               NaN   \n\n     currentMember  terms  startYear_y  birthYear  sponsoredLegislation  \\\n0             True    1.0       2024.0     1964.0                   0.0   \n1            False    4.0       2017.0     1984.0                 171.0   \n2            False    5.0       2015.0     1959.0                 123.0   \n3            False    7.0       2012.0     1958.0                 123.0   \n4              NaN    NaN          NaN        NaN                   0.0   \n...            ...    ...          ...        ...                   ...   \n2517           NaN    NaN          NaN        NaN                   0.0   \n2518           NaN    NaN          NaN        NaN                   0.0   \n2519           NaN    NaN          NaN        NaN                   0.0   \n2520           NaN    NaN          NaN        NaN                   0.0   \n2521           NaN    NaN          NaN        NaN                   0.0   \n\n      cosponsoredLegislation  \n0                       12.0  \n1                      885.0  \n2                      801.0  \n3                     2946.0  \n4                        0.0  \n...                      ...  \n2517                     0.0  \n2518                     0.0  \n2519                     0.0  \n2520                     0.0  \n2521                     0.0  \n\n[2522 rows x 15 columns]",
      "text/html": "<div>\n<style scoped>\n    .dataframe tbody tr th:only-of-type {\n        vertical-align: middle;\n    }\n\n    .dataframe tbody tr th {\n        vertical-align: top;\n    }\n\n    .dataframe thead th {\n        text-align: right;\n    }\n</style>\n<table border=\"1\" class=\"dataframe\">\n  <thead>\n    <tr style=\"text-align: right;\">\n      <th></th>\n      <th>bioguideId</th>\n      <th>district</th>\n      <th>partyName</th>\n      <th>state</th>\n      <th>chamber</th>\n      <th>startYear_x</th>\n      <th>endYear</th>\n      <th>name</th>\n      <th>invertedOrderName</th>\n      <th>currentMember</th>\n      <th>terms</th>\n      <th>startYear_y</th>\n      <th>birthYear</th>\n      <th>sponsoredLegislation</th>\n      <th>cosponsoredLegislation</th>\n    </tr>\n  </thead>\n  <tbody>\n    <tr>\n      <th>0</th>\n      <td>L000604</td>\n      <td>4.0</td>\n      <td>Republican</td>\n      <td>Colorado</td>\n      <td>House of Representatives</td>\n      <td>2024</td>\n      <td>0</td>\n      <td>Lopez, Greg</td>\n      <td>Lopez, Greg</td>\n      <td>True</td>\n      <td>1.0</td>\n      <td>2024.0</td>\n      <td>1964.0</td>\n      <td>0.0</td>\n      <td>12.0</td>\n    </tr>\n    <tr>\n      <th>1</th>\n      <td>G000579</td>\n      <td>8.0</td>\n      <td>Republican</td>\n      <td>Wisconsin</td>\n      <td>House of Representatives</td>\n      <td>2017</td>\n      <td>2024</td>\n      <td>Gallagher, Mike</td>\n      <td>Gallagher, Mike</td>\n      <td>False</td>\n      <td>4.0</td>\n      <td>2017.0</td>\n      <td>1984.0</td>\n      <td>171.0</td>\n      <td>885.0</td>\n    </tr>\n    <tr>\n      <th>2</th>\n      <td>B001297</td>\n      <td>4.0</td>\n      <td>Republican</td>\n      <td>Colorado</td>\n      <td>House of Representatives</td>\n      <td>2015</td>\n      <td>2024</td>\n      <td>Buck, Ken</td>\n      <td>Buck, Ken</td>\n      <td>False</td>\n      <td>5.0</td>\n      <td>2015.0</td>\n      <td>1959.0</td>\n      <td>123.0</td>\n      <td>801.0</td>\n    </tr>\n    <tr>\n      <th>3</th>\n      <td>P000604</td>\n      <td>10.0</td>\n      <td>Democratic</td>\n      <td>New Jersey</td>\n      <td>House of Representatives</td>\n      <td>2012</td>\n      <td>2024</td>\n      <td>Payne, Donald M.</td>\n      <td>Payne, Donald M.</td>\n      <td>False</td>\n      <td>7.0</td>\n      <td>2012.0</td>\n      <td>1958.0</td>\n      <td>123.0</td>\n      <td>2946.0</td>\n    </tr>\n    <tr>\n      <th>4</th>\n      <td>R000354</td>\n      <td>2.0</td>\n      <td>Republican</td>\n      <td>Arkansas</td>\n      <td>House of Representatives</td>\n      <td>1985</td>\n      <td>1991</td>\n      <td>Robinson, Tommy F.</td>\n      <td>NaN</td>\n      <td>NaN</td>\n      <td>NaN</td>\n      <td>NaN</td>\n      <td>NaN</td>\n      <td>0.0</td>\n      <td>0.0</td>\n    </tr>\n    <tr>\n      <th>...</th>\n      <td>...</td>\n      <td>...</td>\n      <td>...</td>\n      <td>...</td>\n      <td>...</td>\n      <td>...</td>\n      <td>...</td>\n      <td>...</td>\n      <td>...</td>\n      <td>...</td>\n      <td>...</td>\n      <td>...</td>\n      <td>...</td>\n      <td>...</td>\n      <td>...</td>\n    </tr>\n    <tr>\n      <th>2517</th>\n      <td>F000229</td>\n      <td>6.0</td>\n      <td>Democratic</td>\n      <td>Georgia</td>\n      <td>House of Representatives</td>\n      <td>1953</td>\n      <td>1979</td>\n      <td>Flynt, John J., Jr.</td>\n      <td>NaN</td>\n      <td>NaN</td>\n      <td>NaN</td>\n      <td>NaN</td>\n      <td>NaN</td>\n      <td>0.0</td>\n      <td>0.0</td>\n    </tr>\n    <tr>\n      <th>2518</th>\n      <td>F000218</td>\n      <td>7.0</td>\n      <td>Democratic</td>\n      <td>Alabama</td>\n      <td>House of Representatives</td>\n      <td>1969</td>\n      <td>1979</td>\n      <td>Flowers, Walter</td>\n      <td>NaN</td>\n      <td>NaN</td>\n      <td>NaN</td>\n      <td>NaN</td>\n      <td>NaN</td>\n      <td>0.0</td>\n      <td>0.0</td>\n    </tr>\n    <tr>\n      <th>2519</th>\n      <td>F000215</td>\n      <td>1.0</td>\n      <td>Democratic</td>\n      <td>New Jersey</td>\n      <td>House of Representatives</td>\n      <td>1975</td>\n      <td>1991</td>\n      <td>Florio, James J.</td>\n      <td>NaN</td>\n      <td>NaN</td>\n      <td>NaN</td>\n      <td>NaN</td>\n      <td>NaN</td>\n      <td>0.0</td>\n      <td>0.0</td>\n    </tr>\n    <tr>\n      <th>2520</th>\n      <td>F000209</td>\n      <td>11.0</td>\n      <td>Democratic</td>\n      <td>Pennsylvania</td>\n      <td>House of Representatives</td>\n      <td>1955</td>\n      <td>1981</td>\n      <td>Flood, Daniel J.</td>\n      <td>NaN</td>\n      <td>NaN</td>\n      <td>NaN</td>\n      <td>NaN</td>\n      <td>NaN</td>\n      <td>0.0</td>\n      <td>0.0</td>\n    </tr>\n    <tr>\n      <th>2521</th>\n      <td>F000208</td>\n      <td>5.0</td>\n      <td>Democratic</td>\n      <td>Alabama</td>\n      <td>House of Representatives</td>\n      <td>1977</td>\n      <td>1991</td>\n      <td>Flippo, Ronnie G.</td>\n      <td>NaN</td>\n      <td>NaN</td>\n      <td>NaN</td>\n      <td>NaN</td>\n      <td>NaN</td>\n      <td>0.0</td>\n      <td>0.0</td>\n    </tr>\n  </tbody>\n</table>\n<p>2522 rows × 15 columns</p>\n</div>"
     },
     "execution_count": 122,
     "metadata": {},
     "output_type": "execute_result"
    }
   ],
   "source": [
    "fullmembers"
   ],
   "metadata": {
    "collapsed": false,
    "ExecuteTime": {
     "end_time": "2025-01-12T21:26:10.776813Z",
     "start_time": "2025-01-12T21:26:10.738221Z"
    }
   },
   "id": "3e4cc22f84a07a9c"
  },
  {
   "cell_type": "code",
   "execution_count": 123,
   "outputs": [],
   "source": [
    "fullmembers = fullmembers.dropna(how=\"all\")\n",
    "fullmembers = fullmembers.dropna(subset=\"currentMember\")\n",
    "fullmembers = fullmembers.drop(columns=[\"invertedOrderName\"])\n",
    "fullmembers = fullmembers.rename(columns={\"startYear_x\":\"startYear\"})\n",
    "fullmembers[\"district\"] = fullmembers[\"district\"].astype(int)\n",
    "fullmembers[\"sponsoredLegislation\"] = fullmembers[\"sponsoredLegislation\"].astype(int)\n",
    "fullmembers[\"cosponsoredLegislation\"] = fullmembers[\"cosponsoredLegislation\"].astype(int)\n",
    "fullmembers[\"partyName\"] = fullmembers[\"partyName\"].astype(\"category\")\n",
    "fullmembers[\"chamber\"] = fullmembers[\"chamber\"].astype(\"category\")\n",
    "fullmembers[\"terms\"] = fullmembers[\"terms\"].astype(\"int\")\n",
    "fullmembers[\"startYear_y\"] = fullmembers[\"startYear_y\"].astype(\"int\")\n",
    "fullmembers[\"birthYear\"] = fullmembers[\"birthYear\"].astype(\"int\")\n",
    "fullmembers[\"currentMember\"] = fullmembers[\"currentMember\"].astype(bool)\n"
   ],
   "metadata": {
    "collapsed": false,
    "ExecuteTime": {
     "end_time": "2025-01-12T21:26:10.799089Z",
     "start_time": "2025-01-12T21:26:10.744786Z"
    }
   },
   "id": "47a8896c18d58f41"
  },
  {
   "cell_type": "code",
   "execution_count": 124,
   "outputs": [
    {
     "name": "stdout",
     "output_type": "stream",
     "text": [
      "<class 'pandas.core.frame.DataFrame'>\n",
      "Index: 1483 entries, 0 to 2515\n",
      "Data columns (total 14 columns):\n",
      " #   Column                  Non-Null Count  Dtype   \n",
      "---  ------                  --------------  -----   \n",
      " 0   bioguideId              1483 non-null   object  \n",
      " 1   district                1483 non-null   int64   \n",
      " 2   partyName               1483 non-null   category\n",
      " 3   state                   1483 non-null   object  \n",
      " 4   chamber                 1483 non-null   category\n",
      " 5   startYear               1483 non-null   int64   \n",
      " 6   endYear                 1483 non-null   int64   \n",
      " 7   name                    1483 non-null   object  \n",
      " 8   currentMember           1483 non-null   bool    \n",
      " 9   terms                   1483 non-null   int64   \n",
      " 10  startYear_y             1483 non-null   int64   \n",
      " 11  birthYear               1483 non-null   int64   \n",
      " 12  sponsoredLegislation    1483 non-null   int64   \n",
      " 13  cosponsoredLegislation  1483 non-null   int64   \n",
      "dtypes: bool(1), category(2), int64(8), object(3)\n",
      "memory usage: 143.7+ KB\n"
     ]
    }
   ],
   "source": [
    "fullmembers.info()"
   ],
   "metadata": {
    "collapsed": false,
    "ExecuteTime": {
     "end_time": "2025-01-12T21:26:10.819354Z",
     "start_time": "2025-01-12T21:26:10.750986Z"
    }
   },
   "id": "bfd51c01389aaa1e"
  },
  {
   "cell_type": "code",
   "execution_count": 125,
   "outputs": [
    {
     "data": {
      "text/plain": "     bioguideId  district   partyName           state  \\\n0       L000604         4  Republican        Colorado   \n1       G000579         8  Republican       Wisconsin   \n2       B001297         4  Republican        Colorado   \n3       P000604        10  Democratic      New Jersey   \n5       C000537         6  Democratic  South Carolina   \n...         ...       ...         ...             ...   \n2502    F000349         7  Republican      New Jersey   \n2504    F000339         4  Democratic   Massachusetts   \n2507    F000328         4  Republican         Florida   \n2513    F000257         1  Democratic        New York   \n2515    F000238        16  Republican         Florida   \n\n                       chamber  startYear  endYear                name  \\\n0     House of Representatives       2024        0         Lopez, Greg   \n1     House of Representatives       2017     2024     Gallagher, Mike   \n2     House of Representatives       2015     2024           Buck, Ken   \n3     House of Representatives       2012     2024    Payne, Donald M.   \n5     House of Representatives       1993        0   Clyburn, James E.   \n...                        ...        ...      ...                 ...   \n2502  House of Representatives       1993     2001         Franks, Bob   \n2504  House of Representatives       1981     2013       Frank, Barney   \n2507  House of Representatives       1993     2001      Fowler, Tillie   \n2513  House of Representatives       1995     2001  Forbes, Michael P.   \n2515  House of Representatives       1995     2007         Foley, Mark   \n\n      currentMember  terms  startYear_y  birthYear  sponsoredLegislation  \\\n0              True      1         2024       1964                     0   \n1             False      4         2017       1984                   171   \n2             False      5         2015       1959                   123   \n3             False      7         2012       1958                   123   \n5              True     16         1993       1940                   118   \n...             ...    ...          ...        ...                   ...   \n2502          False      4         1993       1951                   118   \n2504          False     16         1981       1940                   797   \n2507          False      4         1993       1942                    47   \n2513          False      3         1995       1952                    52   \n2515          False      6         1995       1954                   149   \n\n      cosponsoredLegislation  \n0                         12  \n1                        885  \n2                        801  \n3                       2946  \n5                       2706  \n...                      ...  \n2502                     852  \n2504                   10258  \n2507                     852  \n2513                     859  \n2515                    2362  \n\n[1483 rows x 14 columns]",
      "text/html": "<div>\n<style scoped>\n    .dataframe tbody tr th:only-of-type {\n        vertical-align: middle;\n    }\n\n    .dataframe tbody tr th {\n        vertical-align: top;\n    }\n\n    .dataframe thead th {\n        text-align: right;\n    }\n</style>\n<table border=\"1\" class=\"dataframe\">\n  <thead>\n    <tr style=\"text-align: right;\">\n      <th></th>\n      <th>bioguideId</th>\n      <th>district</th>\n      <th>partyName</th>\n      <th>state</th>\n      <th>chamber</th>\n      <th>startYear</th>\n      <th>endYear</th>\n      <th>name</th>\n      <th>currentMember</th>\n      <th>terms</th>\n      <th>startYear_y</th>\n      <th>birthYear</th>\n      <th>sponsoredLegislation</th>\n      <th>cosponsoredLegislation</th>\n    </tr>\n  </thead>\n  <tbody>\n    <tr>\n      <th>0</th>\n      <td>L000604</td>\n      <td>4</td>\n      <td>Republican</td>\n      <td>Colorado</td>\n      <td>House of Representatives</td>\n      <td>2024</td>\n      <td>0</td>\n      <td>Lopez, Greg</td>\n      <td>True</td>\n      <td>1</td>\n      <td>2024</td>\n      <td>1964</td>\n      <td>0</td>\n      <td>12</td>\n    </tr>\n    <tr>\n      <th>1</th>\n      <td>G000579</td>\n      <td>8</td>\n      <td>Republican</td>\n      <td>Wisconsin</td>\n      <td>House of Representatives</td>\n      <td>2017</td>\n      <td>2024</td>\n      <td>Gallagher, Mike</td>\n      <td>False</td>\n      <td>4</td>\n      <td>2017</td>\n      <td>1984</td>\n      <td>171</td>\n      <td>885</td>\n    </tr>\n    <tr>\n      <th>2</th>\n      <td>B001297</td>\n      <td>4</td>\n      <td>Republican</td>\n      <td>Colorado</td>\n      <td>House of Representatives</td>\n      <td>2015</td>\n      <td>2024</td>\n      <td>Buck, Ken</td>\n      <td>False</td>\n      <td>5</td>\n      <td>2015</td>\n      <td>1959</td>\n      <td>123</td>\n      <td>801</td>\n    </tr>\n    <tr>\n      <th>3</th>\n      <td>P000604</td>\n      <td>10</td>\n      <td>Democratic</td>\n      <td>New Jersey</td>\n      <td>House of Representatives</td>\n      <td>2012</td>\n      <td>2024</td>\n      <td>Payne, Donald M.</td>\n      <td>False</td>\n      <td>7</td>\n      <td>2012</td>\n      <td>1958</td>\n      <td>123</td>\n      <td>2946</td>\n    </tr>\n    <tr>\n      <th>5</th>\n      <td>C000537</td>\n      <td>6</td>\n      <td>Democratic</td>\n      <td>South Carolina</td>\n      <td>House of Representatives</td>\n      <td>1993</td>\n      <td>0</td>\n      <td>Clyburn, James E.</td>\n      <td>True</td>\n      <td>16</td>\n      <td>1993</td>\n      <td>1940</td>\n      <td>118</td>\n      <td>2706</td>\n    </tr>\n    <tr>\n      <th>...</th>\n      <td>...</td>\n      <td>...</td>\n      <td>...</td>\n      <td>...</td>\n      <td>...</td>\n      <td>...</td>\n      <td>...</td>\n      <td>...</td>\n      <td>...</td>\n      <td>...</td>\n      <td>...</td>\n      <td>...</td>\n      <td>...</td>\n      <td>...</td>\n    </tr>\n    <tr>\n      <th>2502</th>\n      <td>F000349</td>\n      <td>7</td>\n      <td>Republican</td>\n      <td>New Jersey</td>\n      <td>House of Representatives</td>\n      <td>1993</td>\n      <td>2001</td>\n      <td>Franks, Bob</td>\n      <td>False</td>\n      <td>4</td>\n      <td>1993</td>\n      <td>1951</td>\n      <td>118</td>\n      <td>852</td>\n    </tr>\n    <tr>\n      <th>2504</th>\n      <td>F000339</td>\n      <td>4</td>\n      <td>Democratic</td>\n      <td>Massachusetts</td>\n      <td>House of Representatives</td>\n      <td>1981</td>\n      <td>2013</td>\n      <td>Frank, Barney</td>\n      <td>False</td>\n      <td>16</td>\n      <td>1981</td>\n      <td>1940</td>\n      <td>797</td>\n      <td>10258</td>\n    </tr>\n    <tr>\n      <th>2507</th>\n      <td>F000328</td>\n      <td>4</td>\n      <td>Republican</td>\n      <td>Florida</td>\n      <td>House of Representatives</td>\n      <td>1993</td>\n      <td>2001</td>\n      <td>Fowler, Tillie</td>\n      <td>False</td>\n      <td>4</td>\n      <td>1993</td>\n      <td>1942</td>\n      <td>47</td>\n      <td>852</td>\n    </tr>\n    <tr>\n      <th>2513</th>\n      <td>F000257</td>\n      <td>1</td>\n      <td>Democratic</td>\n      <td>New York</td>\n      <td>House of Representatives</td>\n      <td>1995</td>\n      <td>2001</td>\n      <td>Forbes, Michael P.</td>\n      <td>False</td>\n      <td>3</td>\n      <td>1995</td>\n      <td>1952</td>\n      <td>52</td>\n      <td>859</td>\n    </tr>\n    <tr>\n      <th>2515</th>\n      <td>F000238</td>\n      <td>16</td>\n      <td>Republican</td>\n      <td>Florida</td>\n      <td>House of Representatives</td>\n      <td>1995</td>\n      <td>2007</td>\n      <td>Foley, Mark</td>\n      <td>False</td>\n      <td>6</td>\n      <td>1995</td>\n      <td>1954</td>\n      <td>149</td>\n      <td>2362</td>\n    </tr>\n  </tbody>\n</table>\n<p>1483 rows × 14 columns</p>\n</div>"
     },
     "execution_count": 125,
     "metadata": {},
     "output_type": "execute_result"
    }
   ],
   "source": [
    "fullmembers\n"
   ],
   "metadata": {
    "collapsed": false,
    "ExecuteTime": {
     "end_time": "2025-01-12T21:26:10.820320Z",
     "start_time": "2025-01-12T21:26:10.755968Z"
    }
   },
   "id": "71d40e38984c66e9"
  },
  {
   "cell_type": "code",
   "execution_count": 126,
   "outputs": [],
   "source": [
    "fullmembers = fullmembers.drop(columns=\"startYear_y\")"
   ],
   "metadata": {
    "collapsed": false,
    "ExecuteTime": {
     "end_time": "2025-01-12T21:26:33.733907Z",
     "start_time": "2025-01-12T21:26:33.732522Z"
    }
   },
   "id": "d83da9b6d4a7c632"
  },
  {
   "cell_type": "code",
   "execution_count": 127,
   "outputs": [
    {
     "data": {
      "text/plain": "     bioguideId  district   partyName           state  \\\n0       L000604         4  Republican        Colorado   \n1       G000579         8  Republican       Wisconsin   \n2       B001297         4  Republican        Colorado   \n3       P000604        10  Democratic      New Jersey   \n5       C000537         6  Democratic  South Carolina   \n...         ...       ...         ...             ...   \n2502    F000349         7  Republican      New Jersey   \n2504    F000339         4  Democratic   Massachusetts   \n2507    F000328         4  Republican         Florida   \n2513    F000257         1  Democratic        New York   \n2515    F000238        16  Republican         Florida   \n\n                       chamber  startYear  endYear                name  \\\n0     House of Representatives       2024        0         Lopez, Greg   \n1     House of Representatives       2017     2024     Gallagher, Mike   \n2     House of Representatives       2015     2024           Buck, Ken   \n3     House of Representatives       2012     2024    Payne, Donald M.   \n5     House of Representatives       1993        0   Clyburn, James E.   \n...                        ...        ...      ...                 ...   \n2502  House of Representatives       1993     2001         Franks, Bob   \n2504  House of Representatives       1981     2013       Frank, Barney   \n2507  House of Representatives       1993     2001      Fowler, Tillie   \n2513  House of Representatives       1995     2001  Forbes, Michael P.   \n2515  House of Representatives       1995     2007         Foley, Mark   \n\n      currentMember  terms  birthYear  sponsoredLegislation  \\\n0              True      1       1964                     0   \n1             False      4       1984                   171   \n2             False      5       1959                   123   \n3             False      7       1958                   123   \n5              True     16       1940                   118   \n...             ...    ...        ...                   ...   \n2502          False      4       1951                   118   \n2504          False     16       1940                   797   \n2507          False      4       1942                    47   \n2513          False      3       1952                    52   \n2515          False      6       1954                   149   \n\n      cosponsoredLegislation  \n0                         12  \n1                        885  \n2                        801  \n3                       2946  \n5                       2706  \n...                      ...  \n2502                     852  \n2504                   10258  \n2507                     852  \n2513                     859  \n2515                    2362  \n\n[1483 rows x 13 columns]",
      "text/html": "<div>\n<style scoped>\n    .dataframe tbody tr th:only-of-type {\n        vertical-align: middle;\n    }\n\n    .dataframe tbody tr th {\n        vertical-align: top;\n    }\n\n    .dataframe thead th {\n        text-align: right;\n    }\n</style>\n<table border=\"1\" class=\"dataframe\">\n  <thead>\n    <tr style=\"text-align: right;\">\n      <th></th>\n      <th>bioguideId</th>\n      <th>district</th>\n      <th>partyName</th>\n      <th>state</th>\n      <th>chamber</th>\n      <th>startYear</th>\n      <th>endYear</th>\n      <th>name</th>\n      <th>currentMember</th>\n      <th>terms</th>\n      <th>birthYear</th>\n      <th>sponsoredLegislation</th>\n      <th>cosponsoredLegislation</th>\n    </tr>\n  </thead>\n  <tbody>\n    <tr>\n      <th>0</th>\n      <td>L000604</td>\n      <td>4</td>\n      <td>Republican</td>\n      <td>Colorado</td>\n      <td>House of Representatives</td>\n      <td>2024</td>\n      <td>0</td>\n      <td>Lopez, Greg</td>\n      <td>True</td>\n      <td>1</td>\n      <td>1964</td>\n      <td>0</td>\n      <td>12</td>\n    </tr>\n    <tr>\n      <th>1</th>\n      <td>G000579</td>\n      <td>8</td>\n      <td>Republican</td>\n      <td>Wisconsin</td>\n      <td>House of Representatives</td>\n      <td>2017</td>\n      <td>2024</td>\n      <td>Gallagher, Mike</td>\n      <td>False</td>\n      <td>4</td>\n      <td>1984</td>\n      <td>171</td>\n      <td>885</td>\n    </tr>\n    <tr>\n      <th>2</th>\n      <td>B001297</td>\n      <td>4</td>\n      <td>Republican</td>\n      <td>Colorado</td>\n      <td>House of Representatives</td>\n      <td>2015</td>\n      <td>2024</td>\n      <td>Buck, Ken</td>\n      <td>False</td>\n      <td>5</td>\n      <td>1959</td>\n      <td>123</td>\n      <td>801</td>\n    </tr>\n    <tr>\n      <th>3</th>\n      <td>P000604</td>\n      <td>10</td>\n      <td>Democratic</td>\n      <td>New Jersey</td>\n      <td>House of Representatives</td>\n      <td>2012</td>\n      <td>2024</td>\n      <td>Payne, Donald M.</td>\n      <td>False</td>\n      <td>7</td>\n      <td>1958</td>\n      <td>123</td>\n      <td>2946</td>\n    </tr>\n    <tr>\n      <th>5</th>\n      <td>C000537</td>\n      <td>6</td>\n      <td>Democratic</td>\n      <td>South Carolina</td>\n      <td>House of Representatives</td>\n      <td>1993</td>\n      <td>0</td>\n      <td>Clyburn, James E.</td>\n      <td>True</td>\n      <td>16</td>\n      <td>1940</td>\n      <td>118</td>\n      <td>2706</td>\n    </tr>\n    <tr>\n      <th>...</th>\n      <td>...</td>\n      <td>...</td>\n      <td>...</td>\n      <td>...</td>\n      <td>...</td>\n      <td>...</td>\n      <td>...</td>\n      <td>...</td>\n      <td>...</td>\n      <td>...</td>\n      <td>...</td>\n      <td>...</td>\n      <td>...</td>\n    </tr>\n    <tr>\n      <th>2502</th>\n      <td>F000349</td>\n      <td>7</td>\n      <td>Republican</td>\n      <td>New Jersey</td>\n      <td>House of Representatives</td>\n      <td>1993</td>\n      <td>2001</td>\n      <td>Franks, Bob</td>\n      <td>False</td>\n      <td>4</td>\n      <td>1951</td>\n      <td>118</td>\n      <td>852</td>\n    </tr>\n    <tr>\n      <th>2504</th>\n      <td>F000339</td>\n      <td>4</td>\n      <td>Democratic</td>\n      <td>Massachusetts</td>\n      <td>House of Representatives</td>\n      <td>1981</td>\n      <td>2013</td>\n      <td>Frank, Barney</td>\n      <td>False</td>\n      <td>16</td>\n      <td>1940</td>\n      <td>797</td>\n      <td>10258</td>\n    </tr>\n    <tr>\n      <th>2507</th>\n      <td>F000328</td>\n      <td>4</td>\n      <td>Republican</td>\n      <td>Florida</td>\n      <td>House of Representatives</td>\n      <td>1993</td>\n      <td>2001</td>\n      <td>Fowler, Tillie</td>\n      <td>False</td>\n      <td>4</td>\n      <td>1942</td>\n      <td>47</td>\n      <td>852</td>\n    </tr>\n    <tr>\n      <th>2513</th>\n      <td>F000257</td>\n      <td>1</td>\n      <td>Democratic</td>\n      <td>New York</td>\n      <td>House of Representatives</td>\n      <td>1995</td>\n      <td>2001</td>\n      <td>Forbes, Michael P.</td>\n      <td>False</td>\n      <td>3</td>\n      <td>1952</td>\n      <td>52</td>\n      <td>859</td>\n    </tr>\n    <tr>\n      <th>2515</th>\n      <td>F000238</td>\n      <td>16</td>\n      <td>Republican</td>\n      <td>Florida</td>\n      <td>House of Representatives</td>\n      <td>1995</td>\n      <td>2007</td>\n      <td>Foley, Mark</td>\n      <td>False</td>\n      <td>6</td>\n      <td>1954</td>\n      <td>149</td>\n      <td>2362</td>\n    </tr>\n  </tbody>\n</table>\n<p>1483 rows × 13 columns</p>\n</div>"
     },
     "execution_count": 127,
     "metadata": {},
     "output_type": "execute_result"
    }
   ],
   "source": [
    "fullmembers"
   ],
   "metadata": {
    "collapsed": false,
    "ExecuteTime": {
     "end_time": "2025-01-12T21:26:38.467009Z",
     "start_time": "2025-01-12T21:26:38.453832Z"
    }
   },
   "id": "b4a421f0366a461"
  },
  {
   "cell_type": "code",
   "execution_count": null,
   "outputs": [],
   "source": [],
   "metadata": {
    "collapsed": false
   },
   "id": "97cadd326a330e5"
  }
 ],
 "metadata": {
  "kernelspec": {
   "display_name": "Python 3",
   "language": "python",
   "name": "python3"
  },
  "language_info": {
   "codemirror_mode": {
    "name": "ipython",
    "version": 2
   },
   "file_extension": ".py",
   "mimetype": "text/x-python",
   "name": "python",
   "nbconvert_exporter": "python",
   "pygments_lexer": "ipython2",
   "version": "2.7.6"
  }
 },
 "nbformat": 4,
 "nbformat_minor": 5
}
